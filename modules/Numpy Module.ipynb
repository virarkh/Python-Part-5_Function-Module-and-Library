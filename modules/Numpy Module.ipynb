{
 "cells": [
  {
   "cell_type": "markdown",
   "id": "43deb29a",
   "metadata": {},
   "source": [
    "# Numpy \n",
    "NumPy is a general-purpose array-processing package. It provides a high-performance multidimensional array object, and tools for working with these arrays. It is the fundamental package for scientific computing with Python"
   ]
  },
  {
   "cell_type": "code",
   "execution_count": 1,
   "id": "85498f23",
   "metadata": {},
   "outputs": [],
   "source": [
    "#import module\n",
    "import numpy as np"
   ]
  },
  {
   "cell_type": "code",
   "execution_count": 2,
   "id": "1fd1436b",
   "metadata": {},
   "outputs": [
    {
     "name": "stdout",
     "output_type": "stream",
     "text": [
      "1.21.5\n"
     ]
    }
   ],
   "source": [
    "#checking numpy version\n",
    "print(np.__version__)"
   ]
  },
  {
   "cell_type": "markdown",
   "id": "2eb4169a",
   "metadata": {},
   "source": [
    "<br>"
   ]
  },
  {
   "cell_type": "markdown",
   "id": "faef67b1",
   "metadata": {},
   "source": [
    "## Creating Numpy Array\n",
    "<hr>"
   ]
  },
  {
   "cell_type": "code",
   "execution_count": 3,
   "id": "756b4a0f",
   "metadata": {},
   "outputs": [
    {
     "name": "stdout",
     "output_type": "stream",
     "text": [
      "[1 2 3 4 5]\n"
     ]
    }
   ],
   "source": [
    "arr = np.array([1, 2, 3, 4, 5])\n",
    "\n",
    "print(arr)"
   ]
  },
  {
   "cell_type": "code",
   "execution_count": 4,
   "id": "06f17414",
   "metadata": {},
   "outputs": [
    {
     "name": "stdout",
     "output_type": "stream",
     "text": [
      "<class 'numpy.ndarray'>\n"
     ]
    }
   ],
   "source": [
    "print(type(arr))"
   ]
  },
  {
   "cell_type": "markdown",
   "id": "9c36ae8b",
   "metadata": {},
   "source": [
    "### 0 Dimension Array"
   ]
  },
  {
   "cell_type": "code",
   "execution_count": 5,
   "id": "2e03d7cf",
   "metadata": {},
   "outputs": [
    {
     "name": "stdout",
     "output_type": "stream",
     "text": [
      "10\n"
     ]
    }
   ],
   "source": [
    "dim0 = np.array(10)\n",
    "\n",
    "print(dim0)"
   ]
  },
  {
   "cell_type": "code",
   "execution_count": 6,
   "id": "27cbb7f6",
   "metadata": {},
   "outputs": [
    {
     "name": "stdout",
     "output_type": "stream",
     "text": [
      "0\n"
     ]
    }
   ],
   "source": [
    "print(dim0.ndim)"
   ]
  },
  {
   "cell_type": "code",
   "execution_count": 7,
   "id": "8e170009",
   "metadata": {},
   "outputs": [
    {
     "name": "stdout",
     "output_type": "stream",
     "text": [
      "Display 0 Dimension Array : 8\n"
     ]
    }
   ],
   "source": [
    "dim0 = np.array(8)\n",
    "\n",
    "print(f\"Display 0 Dimension Array : {dim0}\")"
   ]
  },
  {
   "cell_type": "code",
   "execution_count": 8,
   "id": "fd8f13d7",
   "metadata": {},
   "outputs": [
    {
     "name": "stdout",
     "output_type": "stream",
     "text": [
      "Check dimension : 0\n"
     ]
    }
   ],
   "source": [
    "print(f\"Check dimension : {dim0.ndim}\")"
   ]
  },
  {
   "cell_type": "markdown",
   "id": "cb47a913",
   "metadata": {},
   "source": [
    "<br>"
   ]
  },
  {
   "cell_type": "markdown",
   "id": "da79f1b1",
   "metadata": {},
   "source": [
    "### 1 Dimension Array"
   ]
  },
  {
   "cell_type": "code",
   "execution_count": 9,
   "id": "e979fe33",
   "metadata": {},
   "outputs": [
    {
     "name": "stdout",
     "output_type": "stream",
     "text": [
      "[1 2 3]\n"
     ]
    }
   ],
   "source": [
    "dim1 = np.array([1, 2, 3])\n",
    "\n",
    "print(dim1)"
   ]
  },
  {
   "cell_type": "code",
   "execution_count": 10,
   "id": "156d51b1",
   "metadata": {},
   "outputs": [
    {
     "name": "stdout",
     "output_type": "stream",
     "text": [
      "1\n"
     ]
    }
   ],
   "source": [
    "print(dim1.ndim)"
   ]
  },
  {
   "cell_type": "code",
   "execution_count": 11,
   "id": "85d17754",
   "metadata": {},
   "outputs": [
    {
     "name": "stdout",
     "output_type": "stream",
     "text": [
      "Display 1 Dimension Array : ['10' 'October' '2022']\n"
     ]
    }
   ],
   "source": [
    "dim1 = np.array([10, \"October\", 2022])\n",
    "\n",
    "print(f\"Display 1 Dimension Array : {dim1}\")"
   ]
  },
  {
   "cell_type": "code",
   "execution_count": 12,
   "id": "f1da69c5",
   "metadata": {},
   "outputs": [
    {
     "name": "stdout",
     "output_type": "stream",
     "text": [
      "Check dimension : 1\n"
     ]
    }
   ],
   "source": [
    "print(f\"Check dimension : {dim1.ndim}\")"
   ]
  },
  {
   "cell_type": "markdown",
   "id": "2a76aadd",
   "metadata": {},
   "source": [
    "<br>"
   ]
  },
  {
   "cell_type": "markdown",
   "id": "452192e7",
   "metadata": {},
   "source": [
    "### 2 Dimension Array"
   ]
  },
  {
   "cell_type": "code",
   "execution_count": 13,
   "id": "9708624c",
   "metadata": {},
   "outputs": [
    {
     "name": "stdout",
     "output_type": "stream",
     "text": [
      "[[1 2 3]\n",
      " [4 5 6]]\n"
     ]
    }
   ],
   "source": [
    "dim2 = np.array([[1, 2, 3], [4,5,6]])\n",
    "\n",
    "print(dim2)"
   ]
  },
  {
   "cell_type": "code",
   "execution_count": 14,
   "id": "d5b4fcf0",
   "metadata": {},
   "outputs": [
    {
     "name": "stdout",
     "output_type": "stream",
     "text": [
      "2\n"
     ]
    }
   ],
   "source": [
    "print(dim2.ndim)"
   ]
  },
  {
   "cell_type": "code",
   "execution_count": 15,
   "id": "0dc0e077",
   "metadata": {},
   "outputs": [
    {
     "name": "stdout",
     "output_type": "stream",
     "text": [
      "Display 2 Dimension Array : \n",
      "[['10' 'October' '2022']\n",
      " ['Sat' 'Sun' 'Mon']]\n"
     ]
    }
   ],
   "source": [
    "dim2 = np.array([[10, \"October\", 2022], [\"Sat\", \"Sun\", \"Mon\"]])\n",
    "\n",
    "print(f\"Display 2 Dimension Array : \\n{dim2}\")"
   ]
  },
  {
   "cell_type": "code",
   "execution_count": 16,
   "id": "8d2c4298",
   "metadata": {},
   "outputs": [
    {
     "name": "stdout",
     "output_type": "stream",
     "text": [
      "Check dimension : 2\n"
     ]
    }
   ],
   "source": [
    "print(f\"Check dimension : {dim2.ndim}\")"
   ]
  },
  {
   "cell_type": "markdown",
   "id": "f8cb9788",
   "metadata": {},
   "source": [
    "<br>"
   ]
  },
  {
   "cell_type": "markdown",
   "id": "288f1f54",
   "metadata": {},
   "source": [
    "### 3 Dimension"
   ]
  },
  {
   "cell_type": "code",
   "execution_count": 17,
   "id": "e0da66d9",
   "metadata": {},
   "outputs": [
    {
     "name": "stdout",
     "output_type": "stream",
     "text": [
      "[[[ 1  2  3]\n",
      "  [ 4  5  6]]\n",
      "\n",
      " [[ 7  8  9]\n",
      "  [10 11 12]]]\n"
     ]
    }
   ],
   "source": [
    "dim3 = np.array([[[1, 2, 3], [4,5,6]], [[7,8,9],[10,11,12]]])\n",
    "\n",
    "print(dim3)"
   ]
  },
  {
   "cell_type": "code",
   "execution_count": 18,
   "id": "9e560531",
   "metadata": {},
   "outputs": [
    {
     "name": "stdout",
     "output_type": "stream",
     "text": [
      "3\n"
     ]
    }
   ],
   "source": [
    "print(dim3.ndim)"
   ]
  },
  {
   "cell_type": "code",
   "execution_count": 19,
   "id": "5e270740",
   "metadata": {},
   "outputs": [
    {
     "name": "stdout",
     "output_type": "stream",
     "text": [
      "Display 3 Dimension : \n",
      "[[['Mon' '10']\n",
      "  ['Oct' '2022']\n",
      "  ['11' '30']]]\n"
     ]
    }
   ],
   "source": [
    "dim3 = np.array([[[\"Mon\", 10], [\"Oct\", 2022], [11, 30]]])\n",
    "\n",
    "print(f\"Display 3 Dimension : \\n{dim3}\")"
   ]
  },
  {
   "cell_type": "code",
   "execution_count": 20,
   "id": "284e1a49",
   "metadata": {},
   "outputs": [
    {
     "name": "stdout",
     "output_type": "stream",
     "text": [
      "3\n"
     ]
    }
   ],
   "source": [
    "print(dim3.ndim)"
   ]
  },
  {
   "cell_type": "markdown",
   "id": "2329be9b",
   "metadata": {},
   "source": [
    "<br>"
   ]
  },
  {
   "cell_type": "markdown",
   "id": "d9bb5863",
   "metadata": {},
   "source": [
    "## Indexing Numpy Array"
   ]
  },
  {
   "cell_type": "markdown",
   "id": "9a974cb5",
   "metadata": {},
   "source": [
    "### 1 Dimension"
   ]
  },
  {
   "cell_type": "code",
   "execution_count": 21,
   "id": "b840520a",
   "metadata": {},
   "outputs": [
    {
     "name": "stdout",
     "output_type": "stream",
     "text": [
      "3\n"
     ]
    }
   ],
   "source": [
    "dim1 = np.array([1, 2, 3])\n",
    "\n",
    "print(dim1[2])"
   ]
  },
  {
   "cell_type": "code",
   "execution_count": 22,
   "id": "e9563ed5",
   "metadata": {},
   "outputs": [
    {
     "name": "stdout",
     "output_type": "stream",
     "text": [
      "1 + 3 = 4 \n"
     ]
    }
   ],
   "source": [
    "print(f\"{dim1[0]} + {dim1[2]} = {dim1[0] + dim1[2]} \")"
   ]
  },
  {
   "cell_type": "markdown",
   "id": "26e50b9d",
   "metadata": {},
   "source": [
    "<br>"
   ]
  },
  {
   "cell_type": "markdown",
   "id": "c2c29594",
   "metadata": {},
   "source": [
    "### 2 Dimension"
   ]
  },
  {
   "cell_type": "code",
   "execution_count": 23,
   "id": "91b3a134",
   "metadata": {},
   "outputs": [
    {
     "name": "stdout",
     "output_type": "stream",
     "text": [
      "2nd element on 1st row: October\n"
     ]
    }
   ],
   "source": [
    "dim2 = np.array([[10, \"October\", 2022], [\"Sat\", \"Sun\", \"Mon\"]])\n",
    "\n",
    "print('2nd element on 1st row:', dim2[0, 1])"
   ]
  },
  {
   "cell_type": "code",
   "execution_count": 24,
   "id": "781d6ebb",
   "metadata": {},
   "outputs": [
    {
     "name": "stdout",
     "output_type": "stream",
     "text": [
      "1st element on 2nd row : Sat\n"
     ]
    }
   ],
   "source": [
    "print('1st element on 2nd row :', dim2[1,0])"
   ]
  },
  {
   "cell_type": "markdown",
   "id": "ad510817",
   "metadata": {},
   "source": [
    "<br>"
   ]
  },
  {
   "cell_type": "markdown",
   "id": "823c0f04",
   "metadata": {},
   "source": [
    "### 3 Dimension"
   ]
  },
  {
   "cell_type": "code",
   "execution_count": 25,
   "id": "86765fa8",
   "metadata": {},
   "outputs": [
    {
     "name": "stdout",
     "output_type": "stream",
     "text": [
      "6\n"
     ]
    }
   ],
   "source": [
    "dim3 = np.array([[[1, 2, 3], [4,5,6]], [[7,8,9],[10,11,12]]])\n",
    "\n",
    "print(dim3[0, 1, 2])"
   ]
  },
  {
   "cell_type": "markdown",
   "id": "a7ea5d70",
   "metadata": {},
   "source": [
    "<br>"
   ]
  },
  {
   "cell_type": "markdown",
   "id": "b4873ee6",
   "metadata": {},
   "source": [
    "## Slicing Numpy Array"
   ]
  },
  {
   "cell_type": "markdown",
   "id": "ee5d9c61",
   "metadata": {},
   "source": [
    "### 1 Dimension"
   ]
  },
  {
   "cell_type": "code",
   "execution_count": 26,
   "id": "b0eab198",
   "metadata": {},
   "outputs": [
    {
     "name": "stdout",
     "output_type": "stream",
     "text": [
      "[2 3]\n"
     ]
    }
   ],
   "source": [
    "dim1 = np.array([1, 2, 3])\n",
    "\n",
    "print(dim1[1:])"
   ]
  },
  {
   "cell_type": "code",
   "execution_count": 27,
   "id": "0259a0e1",
   "metadata": {},
   "outputs": [
    {
     "name": "stdout",
     "output_type": "stream",
     "text": [
      "[1 3]\n"
     ]
    }
   ],
   "source": [
    "print(dim1[:3:2])"
   ]
  },
  {
   "cell_type": "markdown",
   "id": "02e8da0e",
   "metadata": {},
   "source": [
    "<br>"
   ]
  },
  {
   "cell_type": "markdown",
   "id": "86a74873",
   "metadata": {},
   "source": [
    "### 2 Dimension"
   ]
  },
  {
   "cell_type": "code",
   "execution_count": 28,
   "id": "1da961db",
   "metadata": {},
   "outputs": [
    {
     "name": "stdout",
     "output_type": "stream",
     "text": [
      "['Sat' 'Sun']\n"
     ]
    }
   ],
   "source": [
    "dim2 = np.array([[10, \"October\", 2022], [\"Sat\", \"Sun\", \"Mon\"]])\n",
    "\n",
    "print(dim2[1, :-1])"
   ]
  },
  {
   "cell_type": "code",
   "execution_count": 29,
   "id": "b789eb21",
   "metadata": {},
   "outputs": [
    {
     "name": "stdout",
     "output_type": "stream",
     "text": [
      "['Sat' 'Sun']\n"
     ]
    }
   ],
   "source": [
    "print(dim2[1, 0:2])"
   ]
  },
  {
   "cell_type": "markdown",
   "id": "b749da08",
   "metadata": {},
   "source": [
    "<br>"
   ]
  },
  {
   "cell_type": "markdown",
   "id": "b6df94fd",
   "metadata": {},
   "source": [
    "### 3 Dimension"
   ]
  },
  {
   "cell_type": "code",
   "execution_count": 30,
   "id": "fa28104e",
   "metadata": {},
   "outputs": [
    {
     "name": "stdout",
     "output_type": "stream",
     "text": [
      "[4 5 6]\n"
     ]
    }
   ],
   "source": [
    "dim3 = np.array([[[1, 2, 3], [4,5,6]], [[7,8,9],[10,11,12]]])\n",
    "\n",
    "print(dim3[0, 1, 0:4])"
   ]
  },
  {
   "cell_type": "code",
   "execution_count": 31,
   "id": "368690f8",
   "metadata": {},
   "outputs": [
    {
     "name": "stdout",
     "output_type": "stream",
     "text": [
      "[[ 7  8  9]\n",
      " [10 11 12]]\n"
     ]
    }
   ],
   "source": [
    "print(dim3[1, 0:2, 0:3])"
   ]
  },
  {
   "cell_type": "code",
   "execution_count": null,
   "id": "f29a8ab9",
   "metadata": {},
   "outputs": [],
   "source": []
  }
 ],
 "metadata": {
  "kernelspec": {
   "display_name": "Python 3 (ipykernel)",
   "language": "python",
   "name": "python3"
  },
  "language_info": {
   "codemirror_mode": {
    "name": "ipython",
    "version": 3
   },
   "file_extension": ".py",
   "mimetype": "text/x-python",
   "name": "python",
   "nbconvert_exporter": "python",
   "pygments_lexer": "ipython3",
   "version": "3.9.12"
  }
 },
 "nbformat": 4,
 "nbformat_minor": 5
}
