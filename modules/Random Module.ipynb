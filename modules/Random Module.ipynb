{
 "cells": [
  {
   "cell_type": "markdown",
   "id": "55b1000c",
   "metadata": {},
   "source": [
    "# Random\n",
    "The random module is a built-in module to generate the pseudo-random variables. It can be used perform some action randomly such as to get a random number, selecting a random elements from a list, shuffle elements randomly, etc."
   ]
  },
  {
   "cell_type": "code",
   "execution_count": 1,
   "id": "ea044c24",
   "metadata": {},
   "outputs": [],
   "source": [
    "import random"
   ]
  },
  {
   "cell_type": "markdown",
   "id": "65681e0a",
   "metadata": {},
   "source": [
    "<br>"
   ]
  },
  {
   "cell_type": "markdown",
   "id": "b7df7917",
   "metadata": {},
   "source": [
    "## Generate Random Floats\n",
    "<hr>\n",
    "The random.random() method returns a random float number between 0.0 to 1.0. The function doesn't need any arguments."
   ]
  },
  {
   "cell_type": "code",
   "execution_count": 2,
   "id": "7920d6e8",
   "metadata": {},
   "outputs": [
    {
     "data": {
      "text/plain": [
       "0.13057831906228234"
      ]
     },
     "execution_count": 2,
     "metadata": {},
     "output_type": "execute_result"
    }
   ],
   "source": [
    "random.random()"
   ]
  },
  {
   "cell_type": "code",
   "execution_count": 3,
   "id": "f55348ab",
   "metadata": {},
   "outputs": [
    {
     "data": {
      "text/plain": [
       "0.8787161740781009"
      ]
     },
     "execution_count": 3,
     "metadata": {},
     "output_type": "execute_result"
    }
   ],
   "source": [
    "random.random()"
   ]
  },
  {
   "cell_type": "markdown",
   "id": "ca6ddce0",
   "metadata": {},
   "source": [
    "<br>"
   ]
  },
  {
   "cell_type": "markdown",
   "id": "d0eb8188",
   "metadata": {},
   "source": [
    "## Generate Random Integers\n",
    "<hr>\n",
    "The random.randint() method returns a random integer between the specified integers."
   ]
  },
  {
   "cell_type": "code",
   "execution_count": 4,
   "id": "0648edaa",
   "metadata": {},
   "outputs": [
    {
     "data": {
      "text/plain": [
       "71"
      ]
     },
     "execution_count": 4,
     "metadata": {},
     "output_type": "execute_result"
    }
   ],
   "source": [
    "random.randint(0, 100)"
   ]
  },
  {
   "cell_type": "code",
   "execution_count": 5,
   "id": "c869e479",
   "metadata": {},
   "outputs": [
    {
     "data": {
      "text/plain": [
       "48"
      ]
     },
     "execution_count": 5,
     "metadata": {},
     "output_type": "execute_result"
    }
   ],
   "source": [
    "random.randint(0, 100)"
   ]
  },
  {
   "cell_type": "code",
   "execution_count": 6,
   "id": "9a293fc2",
   "metadata": {},
   "outputs": [
    {
     "data": {
      "text/plain": [
       "5"
      ]
     },
     "execution_count": 6,
     "metadata": {},
     "output_type": "execute_result"
    }
   ],
   "source": [
    "random.randint(0, 5)"
   ]
  },
  {
   "cell_type": "code",
   "execution_count": 7,
   "id": "c5d4c38a",
   "metadata": {},
   "outputs": [
    {
     "data": {
      "text/plain": [
       "3"
      ]
     },
     "execution_count": 7,
     "metadata": {},
     "output_type": "execute_result"
    }
   ],
   "source": [
    "random.randint(0, 5)"
   ]
  },
  {
   "cell_type": "markdown",
   "id": "6b297c90",
   "metadata": {},
   "source": [
    "<br>"
   ]
  },
  {
   "cell_type": "markdown",
   "id": "0b279a59",
   "metadata": {},
   "source": [
    "## Generate Random Numbers within Range\n",
    "<hr>\n",
    "The random.randrange() method returns a randomly selected element from the range created by the start, stop and step arguments. "
   ]
  },
  {
   "cell_type": "code",
   "execution_count": 8,
   "id": "f9b4c137",
   "metadata": {},
   "outputs": [
    {
     "data": {
      "text/plain": [
       "20"
      ]
     },
     "execution_count": 8,
     "metadata": {},
     "output_type": "execute_result"
    }
   ],
   "source": [
    "random.randrange(0, 100, 10)"
   ]
  },
  {
   "cell_type": "code",
   "execution_count": 9,
   "id": "360459ca",
   "metadata": {},
   "outputs": [
    {
     "data": {
      "text/plain": [
       "50"
      ]
     },
     "execution_count": 9,
     "metadata": {},
     "output_type": "execute_result"
    }
   ],
   "source": [
    "random.randrange(0, 100, 10)"
   ]
  },
  {
   "cell_type": "code",
   "execution_count": 10,
   "id": "7c70828e",
   "metadata": {},
   "outputs": [
    {
     "data": {
      "text/plain": [
       "63"
      ]
     },
     "execution_count": 10,
     "metadata": {},
     "output_type": "execute_result"
    }
   ],
   "source": [
    "random.randrange(0, 100, 7)"
   ]
  },
  {
   "cell_type": "code",
   "execution_count": 11,
   "id": "79ad3d3b",
   "metadata": {},
   "outputs": [
    {
     "data": {
      "text/plain": [
       "0"
      ]
     },
     "execution_count": 11,
     "metadata": {},
     "output_type": "execute_result"
    }
   ],
   "source": [
    "random.randrange(0, 100, 7)"
   ]
  },
  {
   "cell_type": "markdown",
   "id": "f5f794e9",
   "metadata": {},
   "source": [
    "<br>"
   ]
  },
  {
   "cell_type": "markdown",
   "id": "31d560f1",
   "metadata": {},
   "source": [
    "## Select Random Elements\n",
    "<hr>\n",
    "The random.choice() method returns a randomly selected element from a non-empty sequence."
   ]
  },
  {
   "cell_type": "code",
   "execution_count": 12,
   "id": "fc44a9c4",
   "metadata": {},
   "outputs": [
    {
     "data": {
      "text/plain": [
       "'n'"
      ]
     },
     "execution_count": 12,
     "metadata": {},
     "output_type": "execute_result"
    }
   ],
   "source": [
    "random.choice(\"Python\")"
   ]
  },
  {
   "cell_type": "code",
   "execution_count": 13,
   "id": "3962fa73",
   "metadata": {},
   "outputs": [
    {
     "data": {
      "text/plain": [
       "'o'"
      ]
     },
     "execution_count": 13,
     "metadata": {},
     "output_type": "execute_result"
    }
   ],
   "source": [
    "random.choice(\"Python\")"
   ]
  },
  {
   "cell_type": "code",
   "execution_count": 14,
   "id": "088bf5f6",
   "metadata": {},
   "outputs": [
    {
     "data": {
      "text/plain": [
       "'alya'"
      ]
     },
     "execution_count": 14,
     "metadata": {},
     "output_type": "execute_result"
    }
   ],
   "source": [
    "random.choice(['abil', 'alya', 'asep', 'caca', 'jonathan', 'vira'])"
   ]
  },
  {
   "cell_type": "code",
   "execution_count": 15,
   "id": "a94b2356",
   "metadata": {},
   "outputs": [
    {
     "data": {
      "text/plain": [
       "23"
      ]
     },
     "execution_count": 15,
     "metadata": {},
     "output_type": "execute_result"
    }
   ],
   "source": [
    "random.choice([12,23,45,67,65,43])"
   ]
  },
  {
   "cell_type": "markdown",
   "id": "3981c63f",
   "metadata": {},
   "source": [
    "<br>"
   ]
  },
  {
   "cell_type": "markdown",
   "id": "843465d6",
   "metadata": {},
   "source": [
    "## Shuffle Elements Randomly\n",
    "<hr>\n",
    "The random.shuffle() method randomly reorders the elements in a list."
   ]
  },
  {
   "cell_type": "code",
   "execution_count": 16,
   "id": "2ff9f0c2",
   "metadata": {},
   "outputs": [
    {
     "name": "stdout",
     "output_type": "stream",
     "text": [
      "['alya', 'vira', 'caca', 'abil', 'asep', 'jonathan']\n"
     ]
    }
   ],
   "source": [
    "name = ['abil', 'alya', 'asep', 'caca', 'jonathan', 'vira']\n",
    "\n",
    "random.shuffle(name)\n",
    "\n",
    "print(name)"
   ]
  },
  {
   "cell_type": "code",
   "execution_count": 17,
   "id": "6eacd063",
   "metadata": {},
   "outputs": [
    {
     "name": "stdout",
     "output_type": "stream",
     "text": [
      "[45, 67, 23, 12, 43, 65]\n"
     ]
    }
   ],
   "source": [
    "num = [12,23,45,67,65,43]\n",
    "\n",
    "random.shuffle(num)\n",
    "\n",
    "print(num)"
   ]
  },
  {
   "cell_type": "code",
   "execution_count": null,
   "id": "6d7857a4",
   "metadata": {},
   "outputs": [],
   "source": []
  }
 ],
 "metadata": {
  "kernelspec": {
   "display_name": "Python 3 (ipykernel)",
   "language": "python",
   "name": "python3"
  },
  "language_info": {
   "codemirror_mode": {
    "name": "ipython",
    "version": 3
   },
   "file_extension": ".py",
   "mimetype": "text/x-python",
   "name": "python",
   "nbconvert_exporter": "python",
   "pygments_lexer": "ipython3",
   "version": "3.9.12"
  }
 },
 "nbformat": 4,
 "nbformat_minor": 5
}
