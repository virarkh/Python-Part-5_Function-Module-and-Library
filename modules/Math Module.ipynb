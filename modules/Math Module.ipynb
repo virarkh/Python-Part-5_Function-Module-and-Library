{
 "cells": [
  {
   "cell_type": "markdown",
   "id": "84b24e01",
   "metadata": {},
   "source": [
    "# Math\n",
    "<hr>\n",
    "math is the default module of python which is used for scientific and mathematical calculations. This library has math functions such as evaluating complex mathematical operations, trigonometric operations, logarithmic operations, and others. To use the math library in python you need to import the library using <b>import math</b>"
   ]
  },
  {
   "cell_type": "code",
   "execution_count": 5,
   "id": "e6c4914c",
   "metadata": {},
   "outputs": [],
   "source": [
    "# import library\n",
    "import math"
   ]
  },
  {
   "cell_type": "markdown",
   "id": "d5b5d232",
   "metadata": {},
   "source": [
    "<br>"
   ]
  },
  {
   "cell_type": "markdown",
   "id": "5d3f6dbf",
   "metadata": {},
   "source": [
    "## math.pi\n",
    "<hr>\n",
    "The math.pi constant, returns the value of PI (3.14...)"
   ]
  },
  {
   "cell_type": "code",
   "execution_count": 7,
   "id": "8712c6d5",
   "metadata": {},
   "outputs": [
    {
     "name": "stdout",
     "output_type": "stream",
     "text": [
      "Nilai phi : 3.141592653589793\n"
     ]
    }
   ],
   "source": [
    "phi = math.pi\n",
    "\n",
    "print(\"Nilai phi : {}\".format(phi))"
   ]
  },
  {
   "cell_type": "code",
   "execution_count": 34,
   "id": "b574c8e2",
   "metadata": {},
   "outputs": [
    {
     "name": "stdout",
     "output_type": "stream",
     "text": [
      "Calculate the area and circumference of a circle\n",
      "Input Radius : 10\n",
      "L = phi x r x r\n",
      "L = 3.14 x 10 x 10\n",
      "L = 314.1592653589793\n",
      "----------------------------\n",
      "K = 2 * phi * r\n",
      "K = 2 * 3.14 * 10\n",
      "K = 62.83185307179586\n"
     ]
    }
   ],
   "source": [
    "print(\"Calculate the area and circumference of a circle\")\n",
    "value = int(input(\"Input Radius : \"))\n",
    "\n",
    "print(\"L = phi x r x r\")\n",
    "L = math.pi * value * value\n",
    "print(f\"L = 3.14 x {value} x {value}\")\n",
    "print(f\"L = {L}\")\n",
    "print(\"----------------------------\")\n",
    "\n",
    "print(\"K = 2 * phi * r\")\n",
    "K = 2 * math.pi * value\n",
    "print(f\"K = 2 * 3.14 * {value}\")\n",
    "print(f\"K = {K}\")"
   ]
  },
  {
   "cell_type": "markdown",
   "id": "48654ddd",
   "metadata": {},
   "source": [
    "<br>"
   ]
  },
  {
   "cell_type": "markdown",
   "id": "5527f1fa",
   "metadata": {},
   "source": [
    "## math.ceil\n",
    "<hr>\n",
    "Rounds a number up to the nearest integer"
   ]
  },
  {
   "cell_type": "code",
   "execution_count": 36,
   "id": "70232d72",
   "metadata": {},
   "outputs": [
    {
     "name": "stdout",
     "output_type": "stream",
     "text": [
      "3.141592653589793\n"
     ]
    }
   ],
   "source": [
    "phi = math.pi\n",
    "\n",
    "print(phi)"
   ]
  },
  {
   "cell_type": "code",
   "execution_count": 37,
   "id": "71a23407",
   "metadata": {},
   "outputs": [
    {
     "name": "stdout",
     "output_type": "stream",
     "text": [
      "4\n"
     ]
    }
   ],
   "source": [
    "print(math.ceil(phi))"
   ]
  },
  {
   "cell_type": "code",
   "execution_count": 40,
   "id": "816bcb82",
   "metadata": {},
   "outputs": [
    {
     "name": "stdout",
     "output_type": "stream",
     "text": [
      "Input Radius : 10\n",
      "L = phi x r x r\n",
      "L = 3.14 x 10 x 10\n",
      "L = 314.1592653589793\n",
      "L = 315\n"
     ]
    }
   ],
   "source": [
    "value = int(input(\"Input Radius : \"))\n",
    "\n",
    "print(\"L = phi x r x r\")\n",
    "L = math.pi * value * value\n",
    "print(f\"L = 3.14 x {value} x {value}\")\n",
    "print(f\"L = {L}\")\n",
    "print(f\"L = {math.ceil(L)}\")"
   ]
  },
  {
   "cell_type": "markdown",
   "id": "07411a82",
   "metadata": {},
   "source": [
    "<br>"
   ]
  },
  {
   "cell_type": "markdown",
   "id": "09e5ff09",
   "metadata": {},
   "source": [
    "## math.floor\n",
    "<hr>\n",
    "Rounds a number down to the nearest integer"
   ]
  },
  {
   "cell_type": "code",
   "execution_count": 36,
   "id": "70089e7a",
   "metadata": {},
   "outputs": [
    {
     "name": "stdout",
     "output_type": "stream",
     "text": [
      "3.141592653589793\n"
     ]
    }
   ],
   "source": [
    "phi = math.pi\n",
    "\n",
    "print(phi)"
   ]
  },
  {
   "cell_type": "code",
   "execution_count": 42,
   "id": "e49b388e",
   "metadata": {},
   "outputs": [
    {
     "name": "stdout",
     "output_type": "stream",
     "text": [
      "3\n"
     ]
    }
   ],
   "source": [
    "print(math.floor(phi))"
   ]
  },
  {
   "cell_type": "code",
   "execution_count": 41,
   "id": "21cfc93a",
   "metadata": {},
   "outputs": [
    {
     "name": "stdout",
     "output_type": "stream",
     "text": [
      "Input Radius : 10\n",
      "L = phi x r x r\n",
      "L = 3.14 x 10 x 10\n",
      "L = 314.1592653589793\n",
      "L = 314\n"
     ]
    }
   ],
   "source": [
    "value = int(input(\"Input Radius : \"))\n",
    "\n",
    "print(\"L = phi x r x r\")\n",
    "L = math.pi * value * value\n",
    "print(f\"L = 3.14 x {value} x {value}\")\n",
    "print(f\"L = {L}\")\n",
    "print(f\"L = {math.floor(L)}\")"
   ]
  },
  {
   "cell_type": "markdown",
   "id": "7ac47968",
   "metadata": {},
   "source": [
    "<br>"
   ]
  },
  {
   "cell_type": "markdown",
   "id": "aaf6262b",
   "metadata": {},
   "source": [
    "## math.pow\n",
    "<hr>\n",
    "Returns the value of x to the power of y"
   ]
  },
  {
   "cell_type": "code",
   "execution_count": 44,
   "id": "cf275d67",
   "metadata": {},
   "outputs": [
    {
     "name": "stdout",
     "output_type": "stream",
     "text": [
      "4\n"
     ]
    }
   ],
   "source": [
    "x = math.pow(2, 2)\n",
    "\n",
    "print(int(x))"
   ]
  },
  {
   "cell_type": "code",
   "execution_count": 50,
   "id": "b5e040e3",
   "metadata": {},
   "outputs": [
    {
     "name": "stdout",
     "output_type": "stream",
     "text": [
      "4\n"
     ]
    }
   ],
   "source": [
    "x = 2 * 2\n",
    "\n",
    "print(x)"
   ]
  },
  {
   "cell_type": "code",
   "execution_count": 51,
   "id": "3c0ca14a",
   "metadata": {},
   "outputs": [
    {
     "name": "stdout",
     "output_type": "stream",
     "text": [
      "64\n"
     ]
    }
   ],
   "source": [
    "y = math.pow(4, 3)\n",
    "\n",
    "print(int(y))"
   ]
  },
  {
   "cell_type": "code",
   "execution_count": 52,
   "id": "606e0d49",
   "metadata": {},
   "outputs": [
    {
     "name": "stdout",
     "output_type": "stream",
     "text": [
      "64\n"
     ]
    }
   ],
   "source": [
    "y = 4 * 4 * 4\n",
    "\n",
    "print(y)"
   ]
  },
  {
   "cell_type": "code",
   "execution_count": 54,
   "id": "acb26fd8",
   "metadata": {},
   "outputs": [
    {
     "name": "stdout",
     "output_type": "stream",
     "text": [
      "81\n"
     ]
    }
   ],
   "source": [
    "z = math.pow(3, 4)\n",
    "\n",
    "print(int(z))"
   ]
  },
  {
   "cell_type": "code",
   "execution_count": 55,
   "id": "f6334527",
   "metadata": {},
   "outputs": [
    {
     "name": "stdout",
     "output_type": "stream",
     "text": [
      "81\n"
     ]
    }
   ],
   "source": [
    "z = 3 * 3 * 3 * 3\n",
    "\n",
    "print(z)"
   ]
  },
  {
   "cell_type": "markdown",
   "id": "d816373d",
   "metadata": {},
   "source": [
    "<br>"
   ]
  },
  {
   "cell_type": "markdown",
   "id": "f21d8992",
   "metadata": {},
   "source": [
    "## math.sqrt\n",
    "<hr>\n",
    "Returns the square root of a number"
   ]
  },
  {
   "cell_type": "code",
   "execution_count": 60,
   "id": "776c3c38",
   "metadata": {},
   "outputs": [
    {
     "name": "stdout",
     "output_type": "stream",
     "text": [
      "2\n"
     ]
    }
   ],
   "source": [
    "x = math.sqrt(4)\n",
    "\n",
    "print(int(x))"
   ]
  },
  {
   "cell_type": "code",
   "execution_count": 59,
   "id": "bbfe5de6",
   "metadata": {},
   "outputs": [
    {
     "name": "stdout",
     "output_type": "stream",
     "text": [
      "8\n"
     ]
    }
   ],
   "source": [
    "y = math.sqrt(64)\n",
    "\n",
    "print(int(y))"
   ]
  },
  {
   "cell_type": "code",
   "execution_count": 61,
   "id": "3a1448a5",
   "metadata": {},
   "outputs": [
    {
     "name": "stdout",
     "output_type": "stream",
     "text": [
      "9\n"
     ]
    }
   ],
   "source": [
    "z = math.sqrt(81)\n",
    "\n",
    "print(int(z))"
   ]
  },
  {
   "cell_type": "code",
   "execution_count": null,
   "id": "58d0dcea",
   "metadata": {},
   "outputs": [],
   "source": []
  }
 ],
 "metadata": {
  "kernelspec": {
   "display_name": "Python 3 (ipykernel)",
   "language": "python",
   "name": "python3"
  },
  "language_info": {
   "codemirror_mode": {
    "name": "ipython",
    "version": 3
   },
   "file_extension": ".py",
   "mimetype": "text/x-python",
   "name": "python",
   "nbconvert_exporter": "python",
   "pygments_lexer": "ipython3",
   "version": "3.9.12"
  }
 },
 "nbformat": 4,
 "nbformat_minor": 5
}
