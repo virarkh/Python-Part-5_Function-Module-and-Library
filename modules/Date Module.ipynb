{
 "cells": [
  {
   "cell_type": "markdown",
   "id": "0a65443e",
   "metadata": {},
   "source": [
    "# Date\n",
    "<hr>\n",
    "Python has a module named datetime to work with dates and times. <br>\n",
    "<li>date Class</li>\n",
    "<li>time Class</li>\n",
    "<li>datetime Class</li>"
   ]
  },
  {
   "cell_type": "code",
   "execution_count": 1,
   "id": "87626c3d",
   "metadata": {},
   "outputs": [],
   "source": [
    "import datetime\n",
    "from datetime import date"
   ]
  },
  {
   "cell_type": "code",
   "execution_count": 2,
   "id": "8b5db2be",
   "metadata": {},
   "outputs": [
    {
     "name": "stdout",
     "output_type": "stream",
     "text": [
      "current date and time : 2022-10-09 22:59:14.724856\n"
     ]
    }
   ],
   "source": [
    "x = datetime.datetime.now()\n",
    "print(f\"current date and time : {x}\")"
   ]
  },
  {
   "cell_type": "code",
   "execution_count": 3,
   "id": "fb6e6f89",
   "metadata": {},
   "outputs": [
    {
     "name": "stdout",
     "output_type": "stream",
     "text": [
      "current date and time : Sun Oct  9 22:59:14 2022\n"
     ]
    }
   ],
   "source": [
    "y = datetime.datetime.strftime(x, \"%c\")\n",
    "print(f\"current date and time : {y}\")"
   ]
  },
  {
   "cell_type": "markdown",
   "id": "9aaf7a1f",
   "metadata": {},
   "source": [
    "<br>"
   ]
  },
  {
   "cell_type": "markdown",
   "id": "cb422c53",
   "metadata": {},
   "source": [
    "## Date Class"
   ]
  },
  {
   "cell_type": "code",
   "execution_count": 4,
   "id": "c8131c2d",
   "metadata": {},
   "outputs": [
    {
     "name": "stdout",
     "output_type": "stream",
     "text": [
      "Current date : 2022-10-09\n"
     ]
    }
   ],
   "source": [
    "x = date.today()\n",
    "print(f\"Current date : {x}\")"
   ]
  },
  {
   "cell_type": "code",
   "execution_count": 5,
   "id": "cdebf246",
   "metadata": {},
   "outputs": [
    {
     "name": "stdout",
     "output_type": "stream",
     "text": [
      "Current date : Sun, 09 10 22\n"
     ]
    }
   ],
   "source": [
    "today = date.strftime(x, \"%a, %d %m %y\" )\n",
    "\n",
    "print(f\"Current date : {today}\")"
   ]
  },
  {
   "cell_type": "code",
   "execution_count": 6,
   "id": "9a4e15c6",
   "metadata": {},
   "outputs": [
    {
     "name": "stdout",
     "output_type": "stream",
     "text": [
      "Current date : Sun, 09 Oct 22\n"
     ]
    }
   ],
   "source": [
    "today = date.strftime(x, \"%a, %d %b %y\" )\n",
    "\n",
    "print(f\"Current date : {today}\")"
   ]
  },
  {
   "cell_type": "code",
   "execution_count": 7,
   "id": "81f189ce",
   "metadata": {},
   "outputs": [
    {
     "name": "stdout",
     "output_type": "stream",
     "text": [
      "Current date : Sunday, 09 October 2022\n"
     ]
    }
   ],
   "source": [
    "today = date.strftime(x, \"%A, %d %B %Y\" )\n",
    "\n",
    "print(f\"Current date : {today}\")"
   ]
  },
  {
   "cell_type": "markdown",
   "id": "0e13d59b",
   "metadata": {},
   "source": [
    "<br>"
   ]
  },
  {
   "cell_type": "markdown",
   "id": "bdcdfd77",
   "metadata": {},
   "source": [
    "## Time Class"
   ]
  },
  {
   "cell_type": "code",
   "execution_count": 8,
   "id": "7fd8f79f",
   "metadata": {},
   "outputs": [
    {
     "name": "stdout",
     "output_type": "stream",
     "text": [
      "current date and time : 2022-10-09 22:59:15.247275\n"
     ]
    }
   ],
   "source": [
    "dateTime= datetime.datetime.now()\n",
    "print(f\"current date and time : {dateTime}\")"
   ]
  },
  {
   "cell_type": "code",
   "execution_count": 9,
   "id": "38ca2199",
   "metadata": {},
   "outputs": [
    {
     "name": "stdout",
     "output_type": "stream",
     "text": [
      "Current time : 22:59:15:247275\n"
     ]
    }
   ],
   "source": [
    "x = datetime.datetime.strftime(dateTime, \"%H:%M:%S:%f\")\n",
    "\n",
    "print(f\"Current time : {x}\")"
   ]
  },
  {
   "cell_type": "code",
   "execution_count": 10,
   "id": "f997051e",
   "metadata": {},
   "outputs": [
    {
     "name": "stdout",
     "output_type": "stream",
     "text": [
      "Current time : 10:59:15:247275 PM\n"
     ]
    }
   ],
   "source": [
    "x = datetime.datetime.strftime(dateTime, \"%I:%M:%S:%f %p\")\n",
    "\n",
    "print(f\"Current time : {x}\")"
   ]
  },
  {
   "cell_type": "markdown",
   "id": "44c3d28b",
   "metadata": {},
   "source": [
    "<br>"
   ]
  },
  {
   "cell_type": "code",
   "execution_count": null,
   "id": "3e9d0610",
   "metadata": {},
   "outputs": [],
   "source": []
  }
 ],
 "metadata": {
  "kernelspec": {
   "display_name": "Python 3 (ipykernel)",
   "language": "python",
   "name": "python3"
  },
  "language_info": {
   "codemirror_mode": {
    "name": "ipython",
    "version": 3
   },
   "file_extension": ".py",
   "mimetype": "text/x-python",
   "name": "python",
   "nbconvert_exporter": "python",
   "pygments_lexer": "ipython3",
   "version": "3.9.12"
  }
 },
 "nbformat": 4,
 "nbformat_minor": 5
}
