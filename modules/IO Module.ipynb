{
 "cells": [
  {
   "cell_type": "markdown",
   "id": "f7408687",
   "metadata": {},
   "source": [
    "# IO Module\n",
    "Python io module allows us to manage the file-related input and output operations. The advantage of using the IO module is that the classes and functions available allows us to extend the functionality to enable writing to the Unicode data."
   ]
  },
  {
   "cell_type": "code",
   "execution_count": 2,
   "id": "51d7063e",
   "metadata": {},
   "outputs": [
    {
     "name": "stdout",
     "output_type": "stream",
     "text": [
      "Input the values in this field Halo\n"
     ]
    }
   ],
   "source": [
    "with open(\"log.txt\", 'w') as writeFile:\n",
    "    toFile = input(\"Input the values in this field \")\n",
    "    writeFile.write(toFile)"
   ]
  },
  {
   "cell_type": "code",
   "execution_count": 3,
   "id": "d57fa301",
   "metadata": {},
   "outputs": [
    {
     "name": "stdout",
     "output_type": "stream",
     "text": [
      "Input the values in this field Apple\n"
     ]
    }
   ],
   "source": [
    "with open(\"fruits\", 'w') as writeFile:\n",
    "    toFile = input(\"Input the values in this field \")\n",
    "    writeFile.write(toFile)"
   ]
  },
  {
   "cell_type": "code",
   "execution_count": null,
   "id": "ead45dad",
   "metadata": {},
   "outputs": [],
   "source": []
  }
 ],
 "metadata": {
  "kernelspec": {
   "display_name": "Python 3 (ipykernel)",
   "language": "python",
   "name": "python3"
  },
  "language_info": {
   "codemirror_mode": {
    "name": "ipython",
    "version": 3
   },
   "file_extension": ".py",
   "mimetype": "text/x-python",
   "name": "python",
   "nbconvert_exporter": "python",
   "pygments_lexer": "ipython3",
   "version": "3.9.12"
  }
 },
 "nbformat": 4,
 "nbformat_minor": 5
}
