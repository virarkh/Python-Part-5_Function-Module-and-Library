{
 "cells": [
  {
   "cell_type": "markdown",
   "id": "9d2a13ed",
   "metadata": {},
   "source": [
    "# sys Module\n",
    "The sys module provides functions and variables used to manipulate different parts of the Python runtime environment. "
   ]
  },
  {
   "cell_type": "code",
   "execution_count": 1,
   "id": "5439b71f",
   "metadata": {},
   "outputs": [],
   "source": [
    "import sys"
   ]
  },
  {
   "cell_type": "markdown",
   "id": "f6822675",
   "metadata": {},
   "source": [
    "<br>"
   ]
  },
  {
   "cell_type": "markdown",
   "id": "351e28e1",
   "metadata": {},
   "source": [
    "## sys.copyrighyt\n",
    "<hr>\n",
    "A string containing the copyright of the interpreter"
   ]
  },
  {
   "cell_type": "code",
   "execution_count": 9,
   "id": "f9644abb",
   "metadata": {
    "scrolled": true
   },
   "outputs": [
    {
     "data": {
      "text/plain": [
       "'Copyright (c) 2001-2022 Python Software Foundation.\\nAll Rights Reserved.\\n\\nCopyright (c) 2000 BeOpen.com.\\nAll Rights Reserved.\\n\\nCopyright (c) 1995-2001 Corporation for National Research Initiatives.\\nAll Rights Reserved.\\n\\nCopyright (c) 1991-1995 Stichting Mathematisch Centrum, Amsterdam.\\nAll Rights Reserved.'"
      ]
     },
     "execution_count": 9,
     "metadata": {},
     "output_type": "execute_result"
    }
   ],
   "source": [
    "sys.copyright"
   ]
  },
  {
   "cell_type": "markdown",
   "id": "8c5289a1",
   "metadata": {},
   "source": [
    "<br>"
   ]
  },
  {
   "cell_type": "markdown",
   "id": "b31a29d8",
   "metadata": {},
   "source": [
    "## sys.version\n",
    "<hr>\n",
    "A string containing the version number of the Python interpreter plus additional informatin on the build number and compiler used"
   ]
  },
  {
   "cell_type": "code",
   "execution_count": 10,
   "id": "6935c9f7",
   "metadata": {
    "scrolled": true
   },
   "outputs": [
    {
     "data": {
      "text/plain": [
       "'3.9.12 (main, Apr  4 2022, 05:22:27) [MSC v.1916 64 bit (AMD64)]'"
      ]
     },
     "execution_count": 10,
     "metadata": {},
     "output_type": "execute_result"
    }
   ],
   "source": [
    "sys.version"
   ]
  },
  {
   "cell_type": "markdown",
   "id": "ca2def22",
   "metadata": {},
   "source": [
    "<br>"
   ]
  },
  {
   "cell_type": "markdown",
   "id": "8fe0b5c8",
   "metadata": {},
   "source": [
    "## sys.stdout.write()\n",
    "<hr>\n",
    "standard out is used to output a statement"
   ]
  },
  {
   "cell_type": "code",
   "execution_count": 12,
   "id": "3096bb0d",
   "metadata": {},
   "outputs": [
    {
     "name": "stdout",
     "output_type": "stream",
     "text": [
      "this is a reguler message"
     ]
    },
    {
     "data": {
      "text/plain": [
       "25"
      ]
     },
     "execution_count": 12,
     "metadata": {},
     "output_type": "execute_result"
    }
   ],
   "source": [
    "sys.stdout.write(\"this is a reguler message\")"
   ]
  },
  {
   "cell_type": "markdown",
   "id": "89fe00da",
   "metadata": {},
   "source": [
    "<br>"
   ]
  },
  {
   "cell_type": "markdown",
   "id": "647dfcf2",
   "metadata": {},
   "source": [
    "## sys.stderr.write()\n",
    "<hr>\n",
    "standard error is used to output a error (color = red)"
   ]
  },
  {
   "cell_type": "code",
   "execution_count": 13,
   "id": "d2b6d143",
   "metadata": {},
   "outputs": [
    {
     "name": "stderr",
     "output_type": "stream",
     "text": [
      "this is a reguler message"
     ]
    },
    {
     "data": {
      "text/plain": [
       "25"
      ]
     },
     "execution_count": 13,
     "metadata": {},
     "output_type": "execute_result"
    }
   ],
   "source": [
    "sys.stderr.write(\"this is a reguler message\")"
   ]
  },
  {
   "cell_type": "code",
   "execution_count": null,
   "id": "d2ee5ea4",
   "metadata": {},
   "outputs": [],
   "source": []
  }
 ],
 "metadata": {
  "kernelspec": {
   "display_name": "Python 3 (ipykernel)",
   "language": "python",
   "name": "python3"
  },
  "language_info": {
   "codemirror_mode": {
    "name": "ipython",
    "version": 3
   },
   "file_extension": ".py",
   "mimetype": "text/x-python",
   "name": "python",
   "nbconvert_exporter": "python",
   "pygments_lexer": "ipython3",
   "version": "3.9.12"
  }
 },
 "nbformat": 4,
 "nbformat_minor": 5
}
