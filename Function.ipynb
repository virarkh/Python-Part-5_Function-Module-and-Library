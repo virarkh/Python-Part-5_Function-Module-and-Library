{
 "cells": [
  {
   "cell_type": "markdown",
   "id": "1c22acf9",
   "metadata": {},
   "source": [
    "# Function"
   ]
  },
  {
   "cell_type": "markdown",
   "id": "044099c4",
   "metadata": {},
   "source": [
    "- In Python, a function is a group of related statements that performs a specific task.\n",
    "\n",
    "- Functions help break our program into smaller and modular chunks. As our program grows larger and larger, functions make it more organized and manageable.\n",
    "\n",
    "- Furthermore, it avoids repetition and makes the code reusable."
   ]
  },
  {
   "cell_type": "markdown",
   "id": "420260e8",
   "metadata": {},
   "source": [
    "#### Syntax of Function"
   ]
  },
  {
   "cell_type": "markdown",
   "id": "8e6f6182",
   "metadata": {},
   "source": [
    "def function_name(parameters):\n",
    "\n",
    "\t\"\"\"docstring\"\"\"\n",
    "    \n",
    "\tstatement(s)"
   ]
  },
  {
   "cell_type": "markdown",
   "id": "a80a6936",
   "metadata": {},
   "source": [
    "Above shown is a function definition that consists of the following components.\n",
    "\n",
    "- Keyword def that marks the start of the function header.\n",
    "- A function name to uniquely identify the function. \n",
    "- Parameters (arguments) through which we pass values to a function. They are optional.\n",
    "- A colon (:) to mark the end of the function header.\n",
    "- Optional documentation string (docstring) to describe what the function does.\n",
    "- One or more valid python statements that make up the function body. Statements must have the same indentation level (usually 4 spaces).\n",
    "- An optional return statement to return a value from the function."
   ]
  },
  {
   "cell_type": "code",
   "execution_count": 1,
   "id": "9cca073a",
   "metadata": {},
   "outputs": [],
   "source": [
    "# example of a function\n",
    "def exponent(x1,x2):\n",
    "    exponent = x1**x2\n",
    "    return exponent"
   ]
  },
  {
   "cell_type": "code",
   "execution_count": 3,
   "id": "9afc71d8",
   "metadata": {},
   "outputs": [
    {
     "data": {
      "text/plain": [
       "32"
      ]
     },
     "execution_count": 3,
     "metadata": {},
     "output_type": "execute_result"
    }
   ],
   "source": [
    "exponent(2,5)"
   ]
  },
  {
   "cell_type": "markdown",
   "id": "0b92f705",
   "metadata": {},
   "source": [
    "## String in function"
   ]
  },
  {
   "cell_type": "markdown",
   "id": "a6754bb4",
   "metadata": {},
   "source": [
    "We can also use string in function statement.\n",
    "\n",
    "Example:"
   ]
  },
  {
   "cell_type": "code",
   "execution_count": 4,
   "id": "cd75768a",
   "metadata": {},
   "outputs": [],
   "source": [
    "def call(name):\n",
    "    print(\"Hello, \" + name + \". Good morning!\")"
   ]
  },
  {
   "cell_type": "code",
   "execution_count": 5,
   "id": "a0934c2c",
   "metadata": {},
   "outputs": [
    {
     "name": "stdout",
     "output_type": "stream",
     "text": [
      "Hello, john. Good morning!\n"
     ]
    }
   ],
   "source": [
    "call('john')"
   ]
  },
  {
   "cell_type": "markdown",
   "id": "fb71cf68",
   "metadata": {},
   "source": [
    "## Return"
   ]
  },
  {
   "cell_type": "markdown",
   "id": "1ca62f85",
   "metadata": {},
   "source": [
    "The return statement is used to exit a function and go back to the place from where it was called."
   ]
  },
  {
   "cell_type": "markdown",
   "id": "2449118a",
   "metadata": {},
   "source": [
    "#### Syntax of return"
   ]
  },
  {
   "cell_type": "markdown",
   "id": "2098546b",
   "metadata": {},
   "source": [
    "return [experession_list]\n",
    "\n",
    "This statement can contain an expression that gets evaluated and the value is returned. If there is no expression in the statement or the return statement itself is not present inside a function, then the function will return the None object.\n",
    "\n",
    "Example:"
   ]
  },
  {
   "cell_type": "code",
   "execution_count": 6,
   "id": "f901ef00",
   "metadata": {},
   "outputs": [],
   "source": [
    "def plus(x,y):\n",
    "    plus = x + y\n",
    "    print('the reult of the plus function: {}'.format(plus))"
   ]
  },
  {
   "cell_type": "code",
   "execution_count": 8,
   "id": "cfcc1dba",
   "metadata": {},
   "outputs": [
    {
     "name": "stdout",
     "output_type": "stream",
     "text": [
      "the reult of the plus function: 12\n"
     ]
    }
   ],
   "source": [
    "plus(4,8)"
   ]
  },
  {
   "cell_type": "markdown",
   "id": "b5cf29b2",
   "metadata": {},
   "source": [
    "## Pass by reference vs value\n",
    "- Passing by reference means the called functions' parameter will be the same as the callers' passed argument (not the value, but the identity - the variable itself). \n",
    "- Pass by value means the called functions' parameter will be a copy of the callers' passed argument."
   ]
  },
  {
   "cell_type": "code",
   "execution_count": 14,
   "id": "95b03010",
   "metadata": {},
   "outputs": [],
   "source": [
    "def new_list(input_list):\n",
    "    input_list.append([3,4])\n",
    "    print('The value of the list is {}'.format(input_list))"
   ]
  },
  {
   "cell_type": "code",
   "execution_count": 15,
   "id": "98c518ae",
   "metadata": {},
   "outputs": [
    {
     "name": "stdout",
     "output_type": "stream",
     "text": [
      "The value of the list is [5, 6, [3, 4]]\n"
     ]
    }
   ],
   "source": [
    "old_list = [5,6]\n",
    "new_list(old_list)"
   ]
  },
  {
   "cell_type": "markdown",
   "id": "0546ff83",
   "metadata": {},
   "source": [
    "We should be careful when assign variable name, if the variable name same with the parameter it will change the variabel value in local function"
   ]
  },
  {
   "cell_type": "code",
   "execution_count": 20,
   "id": "5e8e8be9",
   "metadata": {},
   "outputs": [],
   "source": [
    "def new_list1(old_list):\n",
    "    old_list = [3,4]\n",
    "    old_list.append(5)\n",
    "    print('The value of the list is {}'.format(old_list))"
   ]
  },
  {
   "cell_type": "code",
   "execution_count": 21,
   "id": "6796d501",
   "metadata": {},
   "outputs": [
    {
     "name": "stdout",
     "output_type": "stream",
     "text": [
      "The value of the list is [3, 4, 5]\n"
     ]
    }
   ],
   "source": [
    "new_list1(old_list)"
   ]
  },
  {
   "cell_type": "code",
   "execution_count": 19,
   "id": "32217688",
   "metadata": {},
   "outputs": [],
   "source": [
    "other_list = [5,6]"
   ]
  },
  {
   "cell_type": "code",
   "execution_count": 22,
   "id": "05d1ef50",
   "metadata": {},
   "outputs": [
    {
     "name": "stdout",
     "output_type": "stream",
     "text": [
      "The value of the list is [3, 4, 5]\n"
     ]
    }
   ],
   "source": [
    "new_list1(other_list)"
   ]
  },
  {
   "cell_type": "markdown",
   "id": "8763f5e5",
   "metadata": {},
   "source": [
    "we can see from the example above if we assign the same variable name with the parameter, the variable value will change."
   ]
  },
  {
   "cell_type": "markdown",
   "id": "d7de3a90",
   "metadata": {},
   "source": [
    "## Local vs Global Variables"
   ]
  },
  {
   "cell_type": "markdown",
   "id": "8c3e65e4",
   "metadata": {},
   "source": [
    "This means that local variables can be accessed only inside the function in which they are declared, whereas global variables can be accessed throughout the program body by all functions. When you call a function, the variables declared inside it are brought into scope.\n",
    "\n",
    "Example:"
   ]
  },
  {
   "cell_type": "code",
   "execution_count": 25,
   "id": "9950bf04",
   "metadata": {},
   "outputs": [
    {
     "name": "stdout",
     "output_type": "stream",
     "text": [
      "Inside the function local total :  30\n",
      "Outside the function global total :  0\n"
     ]
    }
   ],
   "source": [
    "total = 0; # This is global variable.\n",
    "\n",
    "def sum( arg1, arg2 ):\n",
    "    total = arg1 + arg2; # Here total is local variable.\n",
    "    print(\"Inside the function local total : \", total)\n",
    "\n",
    "sum( 10, 20 )\n",
    "print(\"Outside the function global total : \", total)"
   ]
  },
  {
   "cell_type": "code",
   "execution_count": 28,
   "id": "a705cc98",
   "metadata": {},
   "outputs": [
    {
     "name": "stdout",
     "output_type": "stream",
     "text": [
      "global global \n",
      "local\n"
     ]
    }
   ],
   "source": [
    "x = \"global \"\n",
    "\n",
    "def foo():\n",
    "    global x\n",
    "    y = \"local\"\n",
    "    x = x * 2\n",
    "    print(x)\n",
    "    print(y)\n",
    "\n",
    "foo()"
   ]
  },
  {
   "cell_type": "code",
   "execution_count": null,
   "id": "0ac82b3c",
   "metadata": {},
   "outputs": [],
   "source": []
  }
 ],
 "metadata": {
  "kernelspec": {
   "display_name": "Python 3",
   "language": "python",
   "name": "python3"
  },
  "language_info": {
   "codemirror_mode": {
    "name": "ipython",
    "version": 3
   },
   "file_extension": ".py",
   "mimetype": "text/x-python",
   "name": "python",
   "nbconvert_exporter": "python",
   "pygments_lexer": "ipython3",
   "version": "3.6.13"
  }
 },
 "nbformat": 4,
 "nbformat_minor": 5
}
