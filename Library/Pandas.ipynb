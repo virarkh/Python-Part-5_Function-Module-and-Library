{
 "cells": [
  {
   "cell_type": "markdown",
   "id": "f93392fc",
   "metadata": {},
   "source": [
    "# Pandas"
   ]
  },
  {
   "cell_type": "markdown",
   "id": "675620b1",
   "metadata": {},
   "source": [
    "### Import Pandas Library"
   ]
  },
  {
   "cell_type": "code",
   "execution_count": 1,
   "id": "242a86fb",
   "metadata": {},
   "outputs": [],
   "source": [
    "import pandas as pd"
   ]
  },
  {
   "cell_type": "markdown",
   "id": "147f79b5",
   "metadata": {},
   "source": [
    "<br>"
   ]
  },
  {
   "cell_type": "markdown",
   "id": "fee877b9",
   "metadata": {},
   "source": [
    "### Series"
   ]
  },
  {
   "cell_type": "code",
   "execution_count": 2,
   "id": "61d04940",
   "metadata": {},
   "outputs": [],
   "source": [
    "raw_data = ['Abil', 'Alya', 'Asep', 'Caca', 'Jonathan', 'Vira']"
   ]
  },
  {
   "cell_type": "code",
   "execution_count": 3,
   "id": "0969397f",
   "metadata": {},
   "outputs": [
    {
     "name": "stdout",
     "output_type": "stream",
     "text": [
      "0        Abil\n",
      "1        Alya\n",
      "2        Asep\n",
      "3        Caca\n",
      "4    Jonathan\n",
      "5        Vira\n",
      "dtype: object\n"
     ]
    }
   ],
   "source": [
    "# convert list to series\n",
    "data = pd.Series(raw_data)\n",
    "\n",
    "#display data\n",
    "print(data)"
   ]
  },
  {
   "cell_type": "code",
   "execution_count": 4,
   "id": "e36d1962",
   "metadata": {},
   "outputs": [
    {
     "name": "stdout",
     "output_type": "stream",
     "text": [
      "What the values that contain in data variable =>  ['Abil' 'Alya' 'Asep' 'Caca' 'Jonathan' 'Vira']\n"
     ]
    }
   ],
   "source": [
    "# return view object \n",
    "print(\"What the values that contain in data variable => \", data.values)"
   ]
  },
  {
   "cell_type": "code",
   "execution_count": 5,
   "id": "35b9192b",
   "metadata": {},
   "outputs": [
    {
     "data": {
      "text/plain": [
       "'Asep'"
      ]
     },
     "execution_count": 5,
     "metadata": {},
     "output_type": "execute_result"
    }
   ],
   "source": [
    "data[2]"
   ]
  },
  {
   "cell_type": "code",
   "execution_count": 6,
   "id": "4862fe8f",
   "metadata": {},
   "outputs": [
    {
     "data": {
      "text/plain": [
       "'Caca'"
      ]
     },
     "execution_count": 6,
     "metadata": {},
     "output_type": "execute_result"
    }
   ],
   "source": [
    "data[3]"
   ]
  },
  {
   "cell_type": "code",
   "execution_count": 7,
   "id": "7cab5d2b",
   "metadata": {},
   "outputs": [
    {
     "data": {
      "text/plain": [
       "1        Alya\n",
       "2        Asep\n",
       "3        Caca\n",
       "4    Jonathan\n",
       "dtype: object"
      ]
     },
     "execution_count": 7,
     "metadata": {},
     "output_type": "execute_result"
    }
   ],
   "source": [
    "data[1:5]"
   ]
  },
  {
   "cell_type": "markdown",
   "id": "5e6d8a4e",
   "metadata": {},
   "source": [
    "<br>"
   ]
  },
  {
   "cell_type": "markdown",
   "id": "e35d74a4",
   "metadata": {},
   "source": [
    "### Implicit Indexing\n",
    "implicit index is the default index of python which starts from 0 and inclusive."
   ]
  },
  {
   "cell_type": "code",
   "execution_count": 8,
   "id": "11ed954b",
   "metadata": {},
   "outputs": [
    {
     "name": "stdout",
     "output_type": "stream",
     "text": [
      "What the value in index - 0 :  Abil\n",
      "What the value in index - 1 :  Alya\n",
      "What the value in index - 2 :  Asep\n",
      "What the value in index - 3 :  Caca\n",
      "What the value in index - 4 :  Jonathan\n",
      "What the value in index - 5 :  Vira\n"
     ]
    }
   ],
   "source": [
    "for i in range(len(data)):\n",
    "    print(\"What the value in index -\", i, \": \", data[i])"
   ]
  },
  {
   "cell_type": "code",
   "execution_count": 9,
   "id": "a46da123",
   "metadata": {},
   "outputs": [
    {
     "data": {
      "text/plain": [
       "'Jonathan'"
      ]
     },
     "execution_count": 9,
     "metadata": {},
     "output_type": "execute_result"
    }
   ],
   "source": [
    "data[4]"
   ]
  },
  {
   "cell_type": "code",
   "execution_count": 10,
   "id": "e9996c14",
   "metadata": {},
   "outputs": [
    {
     "data": {
      "text/plain": [
       "'Alya'"
      ]
     },
     "execution_count": 10,
     "metadata": {},
     "output_type": "execute_result"
    }
   ],
   "source": [
    "data[1]"
   ]
  },
  {
   "cell_type": "code",
   "execution_count": 11,
   "id": "70f63b30",
   "metadata": {},
   "outputs": [
    {
     "data": {
      "text/plain": [
       "'Abil'"
      ]
     },
     "execution_count": 11,
     "metadata": {},
     "output_type": "execute_result"
    }
   ],
   "source": [
    "data[0]"
   ]
  },
  {
   "cell_type": "markdown",
   "id": "5cca82b1",
   "metadata": {},
   "source": [
    "<br>"
   ]
  },
  {
   "cell_type": "markdown",
   "id": "017ded1f",
   "metadata": {},
   "source": [
    "### Explicit Indexing\n",
    "Explicit index is the customize index name by user. Not always start from 0 and not inclusive. "
   ]
  },
  {
   "cell_type": "code",
   "execution_count": 12,
   "id": "c893d8bb",
   "metadata": {},
   "outputs": [
    {
     "name": "stdout",
     "output_type": "stream",
     "text": [
      "member-1        Abil\n",
      "member-2        Alya\n",
      "member-3        Asep\n",
      "member-4        Caca\n",
      "member-5    Jonathan\n",
      "member-6        Vira\n",
      "dtype: object\n"
     ]
    }
   ],
   "source": [
    "raw_data = ['Abil', 'Alya', 'Asep', 'Caca', 'Jonathan', 'Vira']\n",
    "index_data = ['member-1', 'member-2', 'member-3', 'member-4', 'member-5', 'member-6']\n",
    "\n",
    "data = pd.Series(raw_data, index_data)\n",
    "\n",
    "print(data)"
   ]
  },
  {
   "cell_type": "code",
   "execution_count": 13,
   "id": "44a1ec26",
   "metadata": {},
   "outputs": [
    {
     "data": {
      "text/plain": [
       "member-1        Abil\n",
       "member-2        Alya\n",
       "member-3        Asep\n",
       "member-4        Caca\n",
       "member-5    Jonathan\n",
       "dtype: object"
      ]
     },
     "execution_count": 13,
     "metadata": {},
     "output_type": "execute_result"
    }
   ],
   "source": [
    "data['member-1':'member-5']"
   ]
  },
  {
   "cell_type": "code",
   "execution_count": 14,
   "id": "62686afe",
   "metadata": {},
   "outputs": [
    {
     "data": {
      "text/plain": [
       "'Caca'"
      ]
     },
     "execution_count": 14,
     "metadata": {},
     "output_type": "execute_result"
    }
   ],
   "source": [
    "data['member-4']"
   ]
  },
  {
   "cell_type": "code",
   "execution_count": 15,
   "id": "29259370",
   "metadata": {},
   "outputs": [
    {
     "data": {
      "text/plain": [
       "'Abil'"
      ]
     },
     "execution_count": 15,
     "metadata": {},
     "output_type": "execute_result"
    }
   ],
   "source": [
    "data['member-1']"
   ]
  },
  {
   "cell_type": "code",
   "execution_count": 16,
   "id": "383b12a1",
   "metadata": {},
   "outputs": [
    {
     "ename": "KeyError",
     "evalue": "'member-0'",
     "output_type": "error",
     "traceback": [
      "\u001b[1;31m---------------------------------------------------------------------------\u001b[0m",
      "\u001b[1;31mKeyError\u001b[0m                                  Traceback (most recent call last)",
      "File \u001b[1;32mD:\\Installer\\Conda\\lib\\site-packages\\pandas\\core\\indexes\\base.py:3621\u001b[0m, in \u001b[0;36mIndex.get_loc\u001b[1;34m(self, key, method, tolerance)\u001b[0m\n\u001b[0;32m   3620\u001b[0m \u001b[38;5;28;01mtry\u001b[39;00m:\n\u001b[1;32m-> 3621\u001b[0m     \u001b[38;5;28;01mreturn\u001b[39;00m \u001b[38;5;28;43mself\u001b[39;49m\u001b[38;5;241;43m.\u001b[39;49m\u001b[43m_engine\u001b[49m\u001b[38;5;241;43m.\u001b[39;49m\u001b[43mget_loc\u001b[49m\u001b[43m(\u001b[49m\u001b[43mcasted_key\u001b[49m\u001b[43m)\u001b[49m\n\u001b[0;32m   3622\u001b[0m \u001b[38;5;28;01mexcept\u001b[39;00m \u001b[38;5;167;01mKeyError\u001b[39;00m \u001b[38;5;28;01mas\u001b[39;00m err:\n",
      "File \u001b[1;32mD:\\Installer\\Conda\\lib\\site-packages\\pandas\\_libs\\index.pyx:136\u001b[0m, in \u001b[0;36mpandas._libs.index.IndexEngine.get_loc\u001b[1;34m()\u001b[0m\n",
      "File \u001b[1;32mD:\\Installer\\Conda\\lib\\site-packages\\pandas\\_libs\\index.pyx:163\u001b[0m, in \u001b[0;36mpandas._libs.index.IndexEngine.get_loc\u001b[1;34m()\u001b[0m\n",
      "File \u001b[1;32mpandas\\_libs\\hashtable_class_helper.pxi:5198\u001b[0m, in \u001b[0;36mpandas._libs.hashtable.PyObjectHashTable.get_item\u001b[1;34m()\u001b[0m\n",
      "File \u001b[1;32mpandas\\_libs\\hashtable_class_helper.pxi:5206\u001b[0m, in \u001b[0;36mpandas._libs.hashtable.PyObjectHashTable.get_item\u001b[1;34m()\u001b[0m\n",
      "\u001b[1;31mKeyError\u001b[0m: 'member-0'",
      "\nThe above exception was the direct cause of the following exception:\n",
      "\u001b[1;31mKeyError\u001b[0m                                  Traceback (most recent call last)",
      "Input \u001b[1;32mIn [16]\u001b[0m, in \u001b[0;36m<cell line: 1>\u001b[1;34m()\u001b[0m\n\u001b[1;32m----> 1\u001b[0m \u001b[43mdata\u001b[49m\u001b[43m[\u001b[49m\u001b[38;5;124;43m'\u001b[39;49m\u001b[38;5;124;43mmember-0\u001b[39;49m\u001b[38;5;124;43m'\u001b[39;49m\u001b[43m]\u001b[49m\n",
      "File \u001b[1;32mD:\\Installer\\Conda\\lib\\site-packages\\pandas\\core\\series.py:958\u001b[0m, in \u001b[0;36mSeries.__getitem__\u001b[1;34m(self, key)\u001b[0m\n\u001b[0;32m    955\u001b[0m     \u001b[38;5;28;01mreturn\u001b[39;00m \u001b[38;5;28mself\u001b[39m\u001b[38;5;241m.\u001b[39m_values[key]\n\u001b[0;32m    957\u001b[0m \u001b[38;5;28;01melif\u001b[39;00m key_is_scalar:\n\u001b[1;32m--> 958\u001b[0m     \u001b[38;5;28;01mreturn\u001b[39;00m \u001b[38;5;28;43mself\u001b[39;49m\u001b[38;5;241;43m.\u001b[39;49m\u001b[43m_get_value\u001b[49m\u001b[43m(\u001b[49m\u001b[43mkey\u001b[49m\u001b[43m)\u001b[49m\n\u001b[0;32m    960\u001b[0m \u001b[38;5;28;01mif\u001b[39;00m is_hashable(key):\n\u001b[0;32m    961\u001b[0m     \u001b[38;5;66;03m# Otherwise index.get_value will raise InvalidIndexError\u001b[39;00m\n\u001b[0;32m    962\u001b[0m     \u001b[38;5;28;01mtry\u001b[39;00m:\n\u001b[0;32m    963\u001b[0m         \u001b[38;5;66;03m# For labels that don't resolve as scalars like tuples and frozensets\u001b[39;00m\n",
      "File \u001b[1;32mD:\\Installer\\Conda\\lib\\site-packages\\pandas\\core\\series.py:1069\u001b[0m, in \u001b[0;36mSeries._get_value\u001b[1;34m(self, label, takeable)\u001b[0m\n\u001b[0;32m   1066\u001b[0m     \u001b[38;5;28;01mreturn\u001b[39;00m \u001b[38;5;28mself\u001b[39m\u001b[38;5;241m.\u001b[39m_values[label]\n\u001b[0;32m   1068\u001b[0m \u001b[38;5;66;03m# Similar to Index.get_value, but we do not fall back to positional\u001b[39;00m\n\u001b[1;32m-> 1069\u001b[0m loc \u001b[38;5;241m=\u001b[39m \u001b[38;5;28;43mself\u001b[39;49m\u001b[38;5;241;43m.\u001b[39;49m\u001b[43mindex\u001b[49m\u001b[38;5;241;43m.\u001b[39;49m\u001b[43mget_loc\u001b[49m\u001b[43m(\u001b[49m\u001b[43mlabel\u001b[49m\u001b[43m)\u001b[49m\n\u001b[0;32m   1070\u001b[0m \u001b[38;5;28;01mreturn\u001b[39;00m \u001b[38;5;28mself\u001b[39m\u001b[38;5;241m.\u001b[39mindex\u001b[38;5;241m.\u001b[39m_get_values_for_loc(\u001b[38;5;28mself\u001b[39m, loc, label)\n",
      "File \u001b[1;32mD:\\Installer\\Conda\\lib\\site-packages\\pandas\\core\\indexes\\base.py:3623\u001b[0m, in \u001b[0;36mIndex.get_loc\u001b[1;34m(self, key, method, tolerance)\u001b[0m\n\u001b[0;32m   3621\u001b[0m     \u001b[38;5;28;01mreturn\u001b[39;00m \u001b[38;5;28mself\u001b[39m\u001b[38;5;241m.\u001b[39m_engine\u001b[38;5;241m.\u001b[39mget_loc(casted_key)\n\u001b[0;32m   3622\u001b[0m \u001b[38;5;28;01mexcept\u001b[39;00m \u001b[38;5;167;01mKeyError\u001b[39;00m \u001b[38;5;28;01mas\u001b[39;00m err:\n\u001b[1;32m-> 3623\u001b[0m     \u001b[38;5;28;01mraise\u001b[39;00m \u001b[38;5;167;01mKeyError\u001b[39;00m(key) \u001b[38;5;28;01mfrom\u001b[39;00m \u001b[38;5;21;01merr\u001b[39;00m\n\u001b[0;32m   3624\u001b[0m \u001b[38;5;28;01mexcept\u001b[39;00m \u001b[38;5;167;01mTypeError\u001b[39;00m:\n\u001b[0;32m   3625\u001b[0m     \u001b[38;5;66;03m# If we have a listlike key, _check_indexing_error will raise\u001b[39;00m\n\u001b[0;32m   3626\u001b[0m     \u001b[38;5;66;03m#  InvalidIndexError. Otherwise we fall through and re-raise\u001b[39;00m\n\u001b[0;32m   3627\u001b[0m     \u001b[38;5;66;03m#  the TypeError.\u001b[39;00m\n\u001b[0;32m   3628\u001b[0m     \u001b[38;5;28mself\u001b[39m\u001b[38;5;241m.\u001b[39m_check_indexing_error(key)\n",
      "\u001b[1;31mKeyError\u001b[0m: 'member-0'"
     ]
    }
   ],
   "source": [
    "data['member-0']"
   ]
  },
  {
   "cell_type": "markdown",
   "id": "d57ef254",
   "metadata": {},
   "source": [
    "<b>This syntax error because member-0 doesn't exist</b>"
   ]
  },
  {
   "cell_type": "markdown",
   "id": "55e2460d",
   "metadata": {},
   "source": [
    "<br>"
   ]
  },
  {
   "cell_type": "markdown",
   "id": "f21211c7",
   "metadata": {},
   "source": [
    "### loc\n",
    "The loc function to access data by explicit index."
   ]
  },
  {
   "cell_type": "code",
   "execution_count": 17,
   "id": "3753b6ce",
   "metadata": {},
   "outputs": [
    {
     "data": {
      "text/plain": [
       "'Alya'"
      ]
     },
     "execution_count": 17,
     "metadata": {},
     "output_type": "execute_result"
    }
   ],
   "source": [
    "data.loc['member-2']"
   ]
  },
  {
   "cell_type": "code",
   "execution_count": 18,
   "id": "4464eb27",
   "metadata": {},
   "outputs": [
    {
     "data": {
      "text/plain": [
       "member-1        Abil\n",
       "member-2        Alya\n",
       "member-3        Asep\n",
       "member-4        Caca\n",
       "member-5    Jonathan\n",
       "member-6        Vira\n",
       "dtype: object"
      ]
     },
     "execution_count": 18,
     "metadata": {},
     "output_type": "execute_result"
    }
   ],
   "source": [
    "data.loc['member-1':'member-6']"
   ]
  },
  {
   "cell_type": "code",
   "execution_count": 19,
   "id": "63abe82f",
   "metadata": {},
   "outputs": [
    {
     "data": {
      "text/plain": [
       "member-1        Abil\n",
       "member-3        Asep\n",
       "member-5    Jonathan\n",
       "dtype: object"
      ]
     },
     "execution_count": 19,
     "metadata": {},
     "output_type": "execute_result"
    }
   ],
   "source": [
    "data.loc['member-1':'member-6':2]"
   ]
  },
  {
   "cell_type": "markdown",
   "id": "02e3ad5d",
   "metadata": {},
   "source": [
    "<br>"
   ]
  },
  {
   "cell_type": "markdown",
   "id": "8578710c",
   "metadata": {},
   "source": [
    "### iloc\n",
    "The iloc funtion to access data by implicit index"
   ]
  },
  {
   "cell_type": "code",
   "execution_count": 20,
   "id": "34a06a26",
   "metadata": {},
   "outputs": [
    {
     "data": {
      "text/plain": [
       "'Asep'"
      ]
     },
     "execution_count": 20,
     "metadata": {},
     "output_type": "execute_result"
    }
   ],
   "source": [
    "data.iloc[2]"
   ]
  },
  {
   "cell_type": "code",
   "execution_count": 21,
   "id": "a7ad3722",
   "metadata": {},
   "outputs": [
    {
     "data": {
      "text/plain": [
       "member-2        Alya\n",
       "member-3        Asep\n",
       "member-4        Caca\n",
       "member-5    Jonathan\n",
       "member-6        Vira\n",
       "dtype: object"
      ]
     },
     "execution_count": 21,
     "metadata": {},
     "output_type": "execute_result"
    }
   ],
   "source": [
    "data.iloc[1:6]"
   ]
  },
  {
   "cell_type": "code",
   "execution_count": 22,
   "id": "009c1e1c",
   "metadata": {},
   "outputs": [
    {
     "data": {
      "text/plain": [
       "member-2    Alya\n",
       "member-4    Caca\n",
       "member-6    Vira\n",
       "dtype: object"
      ]
     },
     "execution_count": 22,
     "metadata": {},
     "output_type": "execute_result"
    }
   ],
   "source": [
    "data.iloc[1:6:2]"
   ]
  },
  {
   "cell_type": "markdown",
   "id": "c079a4ee",
   "metadata": {},
   "source": [
    "<br>"
   ]
  },
  {
   "cell_type": "markdown",
   "id": "014ea641",
   "metadata": {},
   "source": [
    "### DataFrame\n",
    "A Pandas DataFrame is a 2 dimensional data structure, like a 2 dimensional array, or a table with rows and columns."
   ]
  },
  {
   "cell_type": "code",
   "execution_count": 23,
   "id": "a25e98ff",
   "metadata": {},
   "outputs": [],
   "source": [
    "address = {'Abil':'Bandung',\n",
    "           'Alya':'Bogor',\n",
    "           'Asep':'Cimahi',\n",
    "           'Caca': 'Bandung',\n",
    "           'Jonathan': 'Jambi',\n",
    "           'Vira': 'Malang'}"
   ]
  },
  {
   "cell_type": "code",
   "execution_count": 24,
   "id": "eee47c59",
   "metadata": {},
   "outputs": [],
   "source": [
    "hobby = {'Abil':'Futsal',\n",
    "         'Alya':'Nonton',\n",
    "         'Asep':'Cari cuan',\n",
    "         'Caca': 'Membaca',\n",
    "         'Jonathan': 'Gaming',\n",
    "         'Vira': 'Dengerin podcast'}"
   ]
  },
  {
   "cell_type": "code",
   "execution_count": 25,
   "id": "bf0f94d0",
   "metadata": {},
   "outputs": [],
   "source": [
    "dream_career = {'Abil':'DS',\n",
    "                'Alya':'DS',\n",
    "                'Asep':'Backend',\n",
    "                'Caca': 'IRT',\n",
    "                'Jonathan': 'DS',\n",
    "                'Vira': 'DA'}"
   ]
  },
  {
   "cell_type": "code",
   "execution_count": 26,
   "id": "a907867d",
   "metadata": {},
   "outputs": [
    {
     "data": {
      "text/html": [
       "<div>\n",
       "<style scoped>\n",
       "    .dataframe tbody tr th:only-of-type {\n",
       "        vertical-align: middle;\n",
       "    }\n",
       "\n",
       "    .dataframe tbody tr th {\n",
       "        vertical-align: top;\n",
       "    }\n",
       "\n",
       "    .dataframe thead th {\n",
       "        text-align: right;\n",
       "    }\n",
       "</style>\n",
       "<table border=\"1\" class=\"dataframe\">\n",
       "  <thead>\n",
       "    <tr style=\"text-align: right;\">\n",
       "      <th></th>\n",
       "      <th>Address</th>\n",
       "      <th>Hobby</th>\n",
       "      <th>Career</th>\n",
       "    </tr>\n",
       "  </thead>\n",
       "  <tbody>\n",
       "    <tr>\n",
       "      <th>Abil</th>\n",
       "      <td>Bandung</td>\n",
       "      <td>Futsal</td>\n",
       "      <td>DS</td>\n",
       "    </tr>\n",
       "    <tr>\n",
       "      <th>Alya</th>\n",
       "      <td>Bogor</td>\n",
       "      <td>Nonton</td>\n",
       "      <td>DS</td>\n",
       "    </tr>\n",
       "    <tr>\n",
       "      <th>Asep</th>\n",
       "      <td>Cimahi</td>\n",
       "      <td>Cari cuan</td>\n",
       "      <td>Backend</td>\n",
       "    </tr>\n",
       "    <tr>\n",
       "      <th>Caca</th>\n",
       "      <td>Bandung</td>\n",
       "      <td>Membaca</td>\n",
       "      <td>IRT</td>\n",
       "    </tr>\n",
       "    <tr>\n",
       "      <th>Jonathan</th>\n",
       "      <td>Jambi</td>\n",
       "      <td>Gaming</td>\n",
       "      <td>DS</td>\n",
       "    </tr>\n",
       "    <tr>\n",
       "      <th>Vira</th>\n",
       "      <td>Malang</td>\n",
       "      <td>Dengerin podcast</td>\n",
       "      <td>DA</td>\n",
       "    </tr>\n",
       "  </tbody>\n",
       "</table>\n",
       "</div>"
      ],
      "text/plain": [
       "          Address             Hobby   Career\n",
       "Abil      Bandung            Futsal       DS\n",
       "Alya        Bogor            Nonton       DS\n",
       "Asep       Cimahi         Cari cuan  Backend\n",
       "Caca      Bandung           Membaca      IRT\n",
       "Jonathan    Jambi            Gaming       DS\n",
       "Vira       Malang  Dengerin podcast       DA"
      ]
     },
     "execution_count": 26,
     "metadata": {},
     "output_type": "execute_result"
    }
   ],
   "source": [
    "kelompok_5 = pd.DataFrame({'Address':address, 'Hobby':hobby, 'Career':dream_career})\n",
    "\n",
    "kelompok_5"
   ]
  },
  {
   "cell_type": "code",
   "execution_count": 27,
   "id": "68778123",
   "metadata": {},
   "outputs": [
    {
     "name": "stdout",
     "output_type": "stream",
     "text": [
      "Display value that contains in address variable :\n",
      "---------------------------\n"
     ]
    },
    {
     "data": {
      "text/plain": [
       "Abil        Bandung\n",
       "Alya          Bogor\n",
       "Asep         Cimahi\n",
       "Caca        Bandung\n",
       "Jonathan      Jambi\n",
       "Vira         Malang\n",
       "Name: Address, dtype: object"
      ]
     },
     "execution_count": 27,
     "metadata": {},
     "output_type": "execute_result"
    }
   ],
   "source": [
    "print(\"Display value that contains in address variable :\\n---------------------------\")\n",
    "kelompok_5['Address']"
   ]
  },
  {
   "cell_type": "code",
   "execution_count": 28,
   "id": "2cfb9088",
   "metadata": {},
   "outputs": [
    {
     "name": "stdout",
     "output_type": "stream",
     "text": [
      "Display value that contains in hobby variable :\n",
      "---------------------------\n"
     ]
    },
    {
     "data": {
      "text/plain": [
       "Abil                  Futsal\n",
       "Alya                  Nonton\n",
       "Asep               Cari cuan\n",
       "Caca                 Membaca\n",
       "Jonathan              Gaming\n",
       "Vira        Dengerin podcast\n",
       "Name: Hobby, dtype: object"
      ]
     },
     "execution_count": 28,
     "metadata": {},
     "output_type": "execute_result"
    }
   ],
   "source": [
    "print(\"Display value that contains in hobby variable :\\n---------------------------\")\n",
    "kelompok_5['Hobby']"
   ]
  },
  {
   "cell_type": "code",
   "execution_count": 29,
   "id": "6c0323e3",
   "metadata": {},
   "outputs": [
    {
     "name": "stdout",
     "output_type": "stream",
     "text": [
      "Display value that contains in dream career variable :\n",
      "---------------------------\n"
     ]
    },
    {
     "data": {
      "text/plain": [
       "Abil             DS\n",
       "Alya             DS\n",
       "Asep        Backend\n",
       "Caca            IRT\n",
       "Jonathan         DS\n",
       "Vira             DA\n",
       "Name: Career, dtype: object"
      ]
     },
     "execution_count": 29,
     "metadata": {},
     "output_type": "execute_result"
    }
   ],
   "source": [
    "print(\"Display value that contains in dream career variable :\\n---------------------------\")\n",
    "kelompok_5['Career']"
   ]
  },
  {
   "cell_type": "markdown",
   "id": "80870a2c",
   "metadata": {},
   "source": [
    "<br>"
   ]
  },
  {
   "cell_type": "markdown",
   "id": "13c3c79a",
   "metadata": {},
   "source": [
    "### DataFrame - head()\n",
    "The head() function is used to get the first n rows. By default n returns the first 5 rows of the dataset"
   ]
  },
  {
   "cell_type": "code",
   "execution_count": 30,
   "id": "bd6559e8",
   "metadata": {},
   "outputs": [
    {
     "data": {
      "text/html": [
       "<div>\n",
       "<style scoped>\n",
       "    .dataframe tbody tr th:only-of-type {\n",
       "        vertical-align: middle;\n",
       "    }\n",
       "\n",
       "    .dataframe tbody tr th {\n",
       "        vertical-align: top;\n",
       "    }\n",
       "\n",
       "    .dataframe thead th {\n",
       "        text-align: right;\n",
       "    }\n",
       "</style>\n",
       "<table border=\"1\" class=\"dataframe\">\n",
       "  <thead>\n",
       "    <tr style=\"text-align: right;\">\n",
       "      <th></th>\n",
       "      <th>Nama</th>\n",
       "      <th>Domisili</th>\n",
       "      <th>Hobi</th>\n",
       "      <th>Career</th>\n",
       "      <th>Hewan Peliharaan</th>\n",
       "      <th>Usia</th>\n",
       "    </tr>\n",
       "  </thead>\n",
       "  <tbody>\n",
       "    <tr>\n",
       "      <th>0</th>\n",
       "      <td>Abil</td>\n",
       "      <td>Bandung</td>\n",
       "      <td>Futsal</td>\n",
       "      <td>DS</td>\n",
       "      <td>2.0</td>\n",
       "      <td>21</td>\n",
       "    </tr>\n",
       "    <tr>\n",
       "      <th>1</th>\n",
       "      <td>Alya</td>\n",
       "      <td>Bogor</td>\n",
       "      <td>Nonton</td>\n",
       "      <td>DS</td>\n",
       "      <td>3.0</td>\n",
       "      <td>21</td>\n",
       "    </tr>\n",
       "    <tr>\n",
       "      <th>2</th>\n",
       "      <td>Asep</td>\n",
       "      <td>Cimahi</td>\n",
       "      <td>Cari cuan</td>\n",
       "      <td>Backend</td>\n",
       "      <td>NaN</td>\n",
       "      <td>21</td>\n",
       "    </tr>\n",
       "    <tr>\n",
       "      <th>3</th>\n",
       "      <td>Caca</td>\n",
       "      <td>Bandung</td>\n",
       "      <td>Membaca</td>\n",
       "      <td>IRT</td>\n",
       "      <td>1.0</td>\n",
       "      <td>21</td>\n",
       "    </tr>\n",
       "    <tr>\n",
       "      <th>4</th>\n",
       "      <td>Jonathan</td>\n",
       "      <td>Jambi</td>\n",
       "      <td>Gaming</td>\n",
       "      <td>DS</td>\n",
       "      <td>1.0</td>\n",
       "      <td>24</td>\n",
       "    </tr>\n",
       "  </tbody>\n",
       "</table>\n",
       "</div>"
      ],
      "text/plain": [
       "       Nama Domisili       Hobi   Career  Hewan Peliharaan  Usia\n",
       "0      Abil  Bandung     Futsal       DS               2.0    21\n",
       "1      Alya    Bogor     Nonton       DS               3.0    21\n",
       "2      Asep   Cimahi  Cari cuan  Backend               NaN    21\n",
       "3      Caca  Bandung    Membaca      IRT               1.0    21\n",
       "4  Jonathan    Jambi     Gaming       DS               1.0    24"
      ]
     },
     "execution_count": 30,
     "metadata": {},
     "output_type": "execute_result"
    }
   ],
   "source": [
    "kelompok_5 = pd.read_csv('kelompok_5.csv')\n",
    "\n",
    "kelompok_5.head()"
   ]
  },
  {
   "cell_type": "markdown",
   "id": "6fa8e388",
   "metadata": {},
   "source": [
    "<br>"
   ]
  },
  {
   "cell_type": "markdown",
   "id": "e7e8319b",
   "metadata": {},
   "source": [
    "### DataFrame - tail()\n",
    "The tail() function is used to get the last n rows. By default n return the last 5 rows of the dataset"
   ]
  },
  {
   "cell_type": "code",
   "execution_count": 31,
   "id": "56508624",
   "metadata": {},
   "outputs": [
    {
     "data": {
      "text/html": [
       "<div>\n",
       "<style scoped>\n",
       "    .dataframe tbody tr th:only-of-type {\n",
       "        vertical-align: middle;\n",
       "    }\n",
       "\n",
       "    .dataframe tbody tr th {\n",
       "        vertical-align: top;\n",
       "    }\n",
       "\n",
       "    .dataframe thead th {\n",
       "        text-align: right;\n",
       "    }\n",
       "</style>\n",
       "<table border=\"1\" class=\"dataframe\">\n",
       "  <thead>\n",
       "    <tr style=\"text-align: right;\">\n",
       "      <th></th>\n",
       "      <th>Nama</th>\n",
       "      <th>Domisili</th>\n",
       "      <th>Hobi</th>\n",
       "      <th>Career</th>\n",
       "      <th>Hewan Peliharaan</th>\n",
       "      <th>Usia</th>\n",
       "    </tr>\n",
       "  </thead>\n",
       "  <tbody>\n",
       "    <tr>\n",
       "      <th>1</th>\n",
       "      <td>Alya</td>\n",
       "      <td>Bogor</td>\n",
       "      <td>Nonton</td>\n",
       "      <td>DS</td>\n",
       "      <td>3.0</td>\n",
       "      <td>21</td>\n",
       "    </tr>\n",
       "    <tr>\n",
       "      <th>2</th>\n",
       "      <td>Asep</td>\n",
       "      <td>Cimahi</td>\n",
       "      <td>Cari cuan</td>\n",
       "      <td>Backend</td>\n",
       "      <td>NaN</td>\n",
       "      <td>21</td>\n",
       "    </tr>\n",
       "    <tr>\n",
       "      <th>3</th>\n",
       "      <td>Caca</td>\n",
       "      <td>Bandung</td>\n",
       "      <td>Membaca</td>\n",
       "      <td>IRT</td>\n",
       "      <td>1.0</td>\n",
       "      <td>21</td>\n",
       "    </tr>\n",
       "    <tr>\n",
       "      <th>4</th>\n",
       "      <td>Jonathan</td>\n",
       "      <td>Jambi</td>\n",
       "      <td>Gaming</td>\n",
       "      <td>DS</td>\n",
       "      <td>1.0</td>\n",
       "      <td>24</td>\n",
       "    </tr>\n",
       "    <tr>\n",
       "      <th>5</th>\n",
       "      <td>Vira</td>\n",
       "      <td>Malang</td>\n",
       "      <td>Dengerin Podcast</td>\n",
       "      <td>DA</td>\n",
       "      <td>1.0</td>\n",
       "      <td>22</td>\n",
       "    </tr>\n",
       "  </tbody>\n",
       "</table>\n",
       "</div>"
      ],
      "text/plain": [
       "       Nama Domisili              Hobi   Career  Hewan Peliharaan  Usia\n",
       "1      Alya    Bogor            Nonton       DS               3.0    21\n",
       "2      Asep   Cimahi         Cari cuan  Backend               NaN    21\n",
       "3      Caca  Bandung           Membaca      IRT               1.0    21\n",
       "4  Jonathan    Jambi            Gaming       DS               1.0    24\n",
       "5      Vira   Malang  Dengerin Podcast       DA               1.0    22"
      ]
     },
     "execution_count": 31,
     "metadata": {},
     "output_type": "execute_result"
    }
   ],
   "source": [
    "kelompok_5.tail()"
   ]
  },
  {
   "cell_type": "markdown",
   "id": "1c1d988b",
   "metadata": {},
   "source": [
    "<br>"
   ]
  },
  {
   "cell_type": "markdown",
   "id": "0b54533b",
   "metadata": {},
   "source": [
    "### DataFrame - shape\n",
    "The shape() function to return a tuple representing the dimensionality of the DataFrame"
   ]
  },
  {
   "cell_type": "code",
   "execution_count": 32,
   "id": "259e292c",
   "metadata": {},
   "outputs": [
    {
     "name": "stdout",
     "output_type": "stream",
     "text": [
      "How many rows and columns in 'kelompok_5' dataset :  (6, 6)\n"
     ]
    }
   ],
   "source": [
    "print(\"How many rows and columns in \\'kelompok_5\\' dataset : \", kelompok_5.shape)"
   ]
  },
  {
   "cell_type": "markdown",
   "id": "756fd9a6",
   "metadata": {},
   "source": [
    "<br>"
   ]
  },
  {
   "cell_type": "markdown",
   "id": "3348127d",
   "metadata": {},
   "source": [
    "### DataFrame - columns\n",
    "The columns function to return column labels in dataset"
   ]
  },
  {
   "cell_type": "code",
   "execution_count": 33,
   "id": "3a30fff7",
   "metadata": {},
   "outputs": [
    {
     "name": "stdout",
     "output_type": "stream",
     "text": [
      "Show the columns in kelompok_5' dataset : \n",
      " Index(['Nama', 'Domisili', 'Hobi', 'Career', 'Hewan Peliharaan', 'Usia'], dtype='object')\n"
     ]
    }
   ],
   "source": [
    "print(\"Show the columns in kelompok_5\\' dataset : \\n\", kelompok_5.columns)"
   ]
  },
  {
   "cell_type": "markdown",
   "id": "2d91194b",
   "metadata": {},
   "source": [
    "<br>"
   ]
  },
  {
   "cell_type": "markdown",
   "id": "aff63e15",
   "metadata": {},
   "source": [
    "### DataFrame - index\n",
    "The index function returns the index information of the DataFrame. "
   ]
  },
  {
   "cell_type": "code",
   "execution_count": 34,
   "id": "fa4f0963",
   "metadata": {},
   "outputs": [
    {
     "data": {
      "text/plain": [
       "RangeIndex(start=0, stop=6, step=1)"
      ]
     },
     "execution_count": 34,
     "metadata": {},
     "output_type": "execute_result"
    }
   ],
   "source": [
    "kelompok_5.index"
   ]
  },
  {
   "cell_type": "markdown",
   "id": "0994e200",
   "metadata": {},
   "source": [
    "<br>"
   ]
  },
  {
   "cell_type": "markdown",
   "id": "ac5f943f",
   "metadata": {},
   "source": [
    "### DataFrame - info()\n",
    "The info() function return information about the DataFrame.\n",
    "\n",
    "The information contains the number of columns, column labels, column data types, memory usage, range index, and the number of cells in each column (non-null values)."
   ]
  },
  {
   "cell_type": "code",
   "execution_count": 35,
   "id": "156c4c41",
   "metadata": {},
   "outputs": [
    {
     "name": "stdout",
     "output_type": "stream",
     "text": [
      "<class 'pandas.core.frame.DataFrame'>\n",
      "RangeIndex: 6 entries, 0 to 5\n",
      "Data columns (total 6 columns):\n",
      " #   Column            Non-Null Count  Dtype  \n",
      "---  ------            --------------  -----  \n",
      " 0   Nama              6 non-null      object \n",
      " 1   Domisili          6 non-null      object \n",
      " 2   Hobi              6 non-null      object \n",
      " 3   Career            6 non-null      object \n",
      " 4   Hewan Peliharaan  5 non-null      float64\n",
      " 5   Usia              6 non-null      int64  \n",
      "dtypes: float64(1), int64(1), object(4)\n",
      "memory usage: 416.0+ bytes\n"
     ]
    }
   ],
   "source": [
    "kelompok_5.info()"
   ]
  },
  {
   "cell_type": "markdown",
   "id": "0bb53849",
   "metadata": {},
   "source": [
    "<br>"
   ]
  },
  {
   "cell_type": "markdown",
   "id": "a08f3f21",
   "metadata": {},
   "source": [
    "### DataFrame - describe()\n",
    "The describe() function returns description of the data in the DataFrame.\n",
    "\n",
    "If the DataFrame contains numerical data, the description contains these information for each column: <br>\n",
    "<li>count - The number of not-empty values. </li>\n",
    "<li>mean - The average (mean) value. </li>\n",
    "<li>std - The standard deviation. </li>\n",
    "<li>min - the minimum value. </li>\n",
    "<li>25% - The 25% percentile*. </li>\n",
    "<li>50% - The 50% percentile*. </li>\n",
    "<li>75% - The 75% percentile*. </li>\n",
    "<li>max - the maximum value. "
   ]
  },
  {
   "cell_type": "code",
   "execution_count": 36,
   "id": "f01038c0",
   "metadata": {},
   "outputs": [
    {
     "data": {
      "text/html": [
       "<div>\n",
       "<style scoped>\n",
       "    .dataframe tbody tr th:only-of-type {\n",
       "        vertical-align: middle;\n",
       "    }\n",
       "\n",
       "    .dataframe tbody tr th {\n",
       "        vertical-align: top;\n",
       "    }\n",
       "\n",
       "    .dataframe thead th {\n",
       "        text-align: right;\n",
       "    }\n",
       "</style>\n",
       "<table border=\"1\" class=\"dataframe\">\n",
       "  <thead>\n",
       "    <tr style=\"text-align: right;\">\n",
       "      <th></th>\n",
       "      <th>Hewan Peliharaan</th>\n",
       "      <th>Usia</th>\n",
       "    </tr>\n",
       "  </thead>\n",
       "  <tbody>\n",
       "    <tr>\n",
       "      <th>count</th>\n",
       "      <td>5.000000</td>\n",
       "      <td>6.000000</td>\n",
       "    </tr>\n",
       "    <tr>\n",
       "      <th>mean</th>\n",
       "      <td>1.600000</td>\n",
       "      <td>21.666667</td>\n",
       "    </tr>\n",
       "    <tr>\n",
       "      <th>std</th>\n",
       "      <td>0.894427</td>\n",
       "      <td>1.211060</td>\n",
       "    </tr>\n",
       "    <tr>\n",
       "      <th>min</th>\n",
       "      <td>1.000000</td>\n",
       "      <td>21.000000</td>\n",
       "    </tr>\n",
       "    <tr>\n",
       "      <th>25%</th>\n",
       "      <td>1.000000</td>\n",
       "      <td>21.000000</td>\n",
       "    </tr>\n",
       "    <tr>\n",
       "      <th>50%</th>\n",
       "      <td>1.000000</td>\n",
       "      <td>21.000000</td>\n",
       "    </tr>\n",
       "    <tr>\n",
       "      <th>75%</th>\n",
       "      <td>2.000000</td>\n",
       "      <td>21.750000</td>\n",
       "    </tr>\n",
       "    <tr>\n",
       "      <th>max</th>\n",
       "      <td>3.000000</td>\n",
       "      <td>24.000000</td>\n",
       "    </tr>\n",
       "  </tbody>\n",
       "</table>\n",
       "</div>"
      ],
      "text/plain": [
       "       Hewan Peliharaan       Usia\n",
       "count          5.000000   6.000000\n",
       "mean           1.600000  21.666667\n",
       "std            0.894427   1.211060\n",
       "min            1.000000  21.000000\n",
       "25%            1.000000  21.000000\n",
       "50%            1.000000  21.000000\n",
       "75%            2.000000  21.750000\n",
       "max            3.000000  24.000000"
      ]
     },
     "execution_count": 36,
     "metadata": {},
     "output_type": "execute_result"
    }
   ],
   "source": [
    "kelompok_5.describe()"
   ]
  },
  {
   "cell_type": "markdown",
   "id": "23456b4c",
   "metadata": {},
   "source": [
    "<br>"
   ]
  },
  {
   "cell_type": "markdown",
   "id": "463389f8",
   "metadata": {},
   "source": [
    "### DataFrame - pop()\n"
   ]
  },
  {
   "cell_type": "code",
   "execution_count": 37,
   "id": "0144c909",
   "metadata": {},
   "outputs": [
    {
     "data": {
      "text/plain": [
       "<bound method DataFrame.pop of        Nama Domisili              Hobi   Career  Hewan Peliharaan  Usia\n",
       "0      Abil  Bandung            Futsal       DS               2.0    21\n",
       "1      Alya    Bogor            Nonton       DS               3.0    21\n",
       "2      Asep   Cimahi         Cari cuan  Backend               NaN    21\n",
       "3      Caca  Bandung           Membaca      IRT               1.0    21\n",
       "4  Jonathan    Jambi            Gaming       DS               1.0    24\n",
       "5      Vira   Malang  Dengerin Podcast       DA               1.0    22>"
      ]
     },
     "execution_count": 37,
     "metadata": {},
     "output_type": "execute_result"
    }
   ],
   "source": [
    "kelompok_5.pop"
   ]
  },
  {
   "cell_type": "markdown",
   "id": "73b49fa8",
   "metadata": {},
   "source": [
    "<br>"
   ]
  },
  {
   "cell_type": "markdown",
   "id": "8a2cf775",
   "metadata": {},
   "source": [
    "### DataFrame - isnull()\n",
    "The isnull().sum() to count missing values in each row and column"
   ]
  },
  {
   "cell_type": "code",
   "execution_count": 38,
   "id": "188955ef",
   "metadata": {},
   "outputs": [
    {
     "data": {
      "text/plain": [
       "Nama                0\n",
       "Domisili            0\n",
       "Hobi                0\n",
       "Career              0\n",
       "Hewan Peliharaan    1\n",
       "Usia                0\n",
       "dtype: int64"
      ]
     },
     "execution_count": 38,
     "metadata": {},
     "output_type": "execute_result"
    }
   ],
   "source": [
    "kelompok_5.isnull().sum()"
   ]
  },
  {
   "cell_type": "code",
   "execution_count": 39,
   "id": "883e2e1a",
   "metadata": {},
   "outputs": [
    {
     "data": {
      "text/html": [
       "<div>\n",
       "<style scoped>\n",
       "    .dataframe tbody tr th:only-of-type {\n",
       "        vertical-align: middle;\n",
       "    }\n",
       "\n",
       "    .dataframe tbody tr th {\n",
       "        vertical-align: top;\n",
       "    }\n",
       "\n",
       "    .dataframe thead th {\n",
       "        text-align: right;\n",
       "    }\n",
       "</style>\n",
       "<table border=\"1\" class=\"dataframe\">\n",
       "  <thead>\n",
       "    <tr style=\"text-align: right;\">\n",
       "      <th></th>\n",
       "      <th>Nama</th>\n",
       "      <th>Domisili</th>\n",
       "      <th>Hobi</th>\n",
       "      <th>Career</th>\n",
       "      <th>Hewan Peliharaan</th>\n",
       "      <th>Usia</th>\n",
       "    </tr>\n",
       "  </thead>\n",
       "  <tbody>\n",
       "    <tr>\n",
       "      <th>2</th>\n",
       "      <td>Asep</td>\n",
       "      <td>Cimahi</td>\n",
       "      <td>Cari cuan</td>\n",
       "      <td>Backend</td>\n",
       "      <td>NaN</td>\n",
       "      <td>21</td>\n",
       "    </tr>\n",
       "  </tbody>\n",
       "</table>\n",
       "</div>"
      ],
      "text/plain": [
       "   Nama Domisili       Hobi   Career  Hewan Peliharaan  Usia\n",
       "2  Asep   Cimahi  Cari cuan  Backend               NaN    21"
      ]
     },
     "execution_count": 39,
     "metadata": {},
     "output_type": "execute_result"
    }
   ],
   "source": [
    "kelompok_5[kelompok_5['Hewan Peliharaan'].isnull()]"
   ]
  },
  {
   "cell_type": "markdown",
   "id": "f1428f54",
   "metadata": {},
   "source": [
    "<br>"
   ]
  },
  {
   "cell_type": "markdown",
   "id": "aa6c0ee2",
   "metadata": {},
   "source": [
    "### DataFrame - notnull().sum()\n",
    "The notnull().sum() function to count values not null in each row and column"
   ]
  },
  {
   "cell_type": "code",
   "execution_count": 40,
   "id": "8ac42535",
   "metadata": {},
   "outputs": [
    {
     "data": {
      "text/plain": [
       "Nama                6\n",
       "Domisili            6\n",
       "Hobi                6\n",
       "Career              6\n",
       "Hewan Peliharaan    5\n",
       "Usia                6\n",
       "dtype: int64"
      ]
     },
     "execution_count": 40,
     "metadata": {},
     "output_type": "execute_result"
    }
   ],
   "source": [
    "kelompok_5.notnull().sum()"
   ]
  },
  {
   "cell_type": "code",
   "execution_count": 41,
   "id": "72a966bf",
   "metadata": {},
   "outputs": [
    {
     "data": {
      "text/html": [
       "<div>\n",
       "<style scoped>\n",
       "    .dataframe tbody tr th:only-of-type {\n",
       "        vertical-align: middle;\n",
       "    }\n",
       "\n",
       "    .dataframe tbody tr th {\n",
       "        vertical-align: top;\n",
       "    }\n",
       "\n",
       "    .dataframe thead th {\n",
       "        text-align: right;\n",
       "    }\n",
       "</style>\n",
       "<table border=\"1\" class=\"dataframe\">\n",
       "  <thead>\n",
       "    <tr style=\"text-align: right;\">\n",
       "      <th></th>\n",
       "      <th>Nama</th>\n",
       "      <th>Domisili</th>\n",
       "      <th>Hobi</th>\n",
       "      <th>Career</th>\n",
       "      <th>Hewan Peliharaan</th>\n",
       "      <th>Usia</th>\n",
       "    </tr>\n",
       "  </thead>\n",
       "  <tbody>\n",
       "    <tr>\n",
       "      <th>0</th>\n",
       "      <td>Abil</td>\n",
       "      <td>Bandung</td>\n",
       "      <td>Futsal</td>\n",
       "      <td>DS</td>\n",
       "      <td>2.0</td>\n",
       "      <td>21</td>\n",
       "    </tr>\n",
       "    <tr>\n",
       "      <th>1</th>\n",
       "      <td>Alya</td>\n",
       "      <td>Bogor</td>\n",
       "      <td>Nonton</td>\n",
       "      <td>DS</td>\n",
       "      <td>3.0</td>\n",
       "      <td>21</td>\n",
       "    </tr>\n",
       "    <tr>\n",
       "      <th>3</th>\n",
       "      <td>Caca</td>\n",
       "      <td>Bandung</td>\n",
       "      <td>Membaca</td>\n",
       "      <td>IRT</td>\n",
       "      <td>1.0</td>\n",
       "      <td>21</td>\n",
       "    </tr>\n",
       "    <tr>\n",
       "      <th>4</th>\n",
       "      <td>Jonathan</td>\n",
       "      <td>Jambi</td>\n",
       "      <td>Gaming</td>\n",
       "      <td>DS</td>\n",
       "      <td>1.0</td>\n",
       "      <td>24</td>\n",
       "    </tr>\n",
       "    <tr>\n",
       "      <th>5</th>\n",
       "      <td>Vira</td>\n",
       "      <td>Malang</td>\n",
       "      <td>Dengerin Podcast</td>\n",
       "      <td>DA</td>\n",
       "      <td>1.0</td>\n",
       "      <td>22</td>\n",
       "    </tr>\n",
       "  </tbody>\n",
       "</table>\n",
       "</div>"
      ],
      "text/plain": [
       "       Nama Domisili              Hobi Career  Hewan Peliharaan  Usia\n",
       "0      Abil  Bandung            Futsal     DS               2.0    21\n",
       "1      Alya    Bogor            Nonton     DS               3.0    21\n",
       "3      Caca  Bandung           Membaca    IRT               1.0    21\n",
       "4  Jonathan    Jambi            Gaming     DS               1.0    24\n",
       "5      Vira   Malang  Dengerin Podcast     DA               1.0    22"
      ]
     },
     "execution_count": 41,
     "metadata": {},
     "output_type": "execute_result"
    }
   ],
   "source": [
    "kelompok_5[kelompok_5['Hewan Peliharaan'].notnull()]"
   ]
  },
  {
   "cell_type": "markdown",
   "id": "05874450",
   "metadata": {},
   "source": [
    "<br>"
   ]
  },
  {
   "cell_type": "markdown",
   "id": "00418dd7",
   "metadata": {},
   "source": [
    "### DataFrame - mean()\n",
    "The mean() function used to calculate mean/average of a given list of numbers "
   ]
  },
  {
   "cell_type": "code",
   "execution_count": 42,
   "id": "dd4d3dcc",
   "metadata": {},
   "outputs": [
    {
     "data": {
      "text/plain": [
       "1.6"
      ]
     },
     "execution_count": 42,
     "metadata": {},
     "output_type": "execute_result"
    }
   ],
   "source": [
    "kelompok_5['Hewan Peliharaan'].mean()"
   ]
  },
  {
   "cell_type": "code",
   "execution_count": 43,
   "id": "e6f474e0",
   "metadata": {},
   "outputs": [
    {
     "data": {
      "text/plain": [
       "21.666666666666668"
      ]
     },
     "execution_count": 43,
     "metadata": {},
     "output_type": "execute_result"
    }
   ],
   "source": [
    "kelompok_5['Usia'].mean()"
   ]
  },
  {
   "cell_type": "markdown",
   "id": "60c56c45",
   "metadata": {},
   "source": [
    "<br>"
   ]
  },
  {
   "cell_type": "markdown",
   "id": "4a2ff923",
   "metadata": {},
   "source": [
    "### DataFrame - max()\n",
    "The max() function returns a data with the maximum value of each column"
   ]
  },
  {
   "cell_type": "code",
   "execution_count": 44,
   "id": "b6a83066",
   "metadata": {},
   "outputs": [
    {
     "data": {
      "text/plain": [
       "3.0"
      ]
     },
     "execution_count": 44,
     "metadata": {},
     "output_type": "execute_result"
    }
   ],
   "source": [
    "kelompok_5['Hewan Peliharaan'].max()"
   ]
  },
  {
   "cell_type": "code",
   "execution_count": 45,
   "id": "3a3bf602",
   "metadata": {},
   "outputs": [
    {
     "data": {
      "text/plain": [
       "24"
      ]
     },
     "execution_count": 45,
     "metadata": {},
     "output_type": "execute_result"
    }
   ],
   "source": [
    "kelompok_5['Usia'].max()"
   ]
  },
  {
   "cell_type": "markdown",
   "id": "bc57e73e",
   "metadata": {},
   "source": [
    "<br>"
   ]
  },
  {
   "cell_type": "markdown",
   "id": "5552059f",
   "metadata": {},
   "source": [
    "### DataFrame - unique()\n",
    "The unique() function is used to get unique values in dataset"
   ]
  },
  {
   "cell_type": "code",
   "execution_count": 46,
   "id": "feb05c9c",
   "metadata": {},
   "outputs": [
    {
     "data": {
      "text/plain": [
       "array(['Bandung', 'Bogor', 'Cimahi', 'Jambi', 'Malang'], dtype=object)"
      ]
     },
     "execution_count": 46,
     "metadata": {},
     "output_type": "execute_result"
    }
   ],
   "source": [
    "kelompok_5['Domisili'].unique()"
   ]
  },
  {
   "cell_type": "code",
   "execution_count": 47,
   "id": "f44ea884",
   "metadata": {},
   "outputs": [
    {
     "data": {
      "text/plain": [
       "array([21, 24, 22], dtype=int64)"
      ]
     },
     "execution_count": 47,
     "metadata": {},
     "output_type": "execute_result"
    }
   ],
   "source": [
    "kelompok_5['Usia'].unique()"
   ]
  },
  {
   "cell_type": "code",
   "execution_count": 48,
   "id": "6e129b28",
   "metadata": {},
   "outputs": [
    {
     "data": {
      "text/plain": [
       "array(['DS', 'Backend', 'IRT', 'DA'], dtype=object)"
      ]
     },
     "execution_count": 48,
     "metadata": {},
     "output_type": "execute_result"
    }
   ],
   "source": [
    "kelompok_5['Career'].unique()"
   ]
  }
 ],
 "metadata": {
  "kernelspec": {
   "display_name": "Python 3 (ipykernel)",
   "language": "python",
   "name": "python3"
  },
  "language_info": {
   "codemirror_mode": {
    "name": "ipython",
    "version": 3
   },
   "file_extension": ".py",
   "mimetype": "text/x-python",
   "name": "python",
   "nbconvert_exporter": "python",
   "pygments_lexer": "ipython3",
   "version": "3.9.12"
  }
 },
 "nbformat": 4,
 "nbformat_minor": 5
}
